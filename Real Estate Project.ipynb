{
 "cells": [
  {
   "cell_type": "markdown",
   "id": "4e14bccc",
   "metadata": {},
   "source": [
    "## Import Libraries"
   ]
  },
  {
   "cell_type": "code",
   "execution_count": 535,
   "id": "99c4855c",
   "metadata": {},
   "outputs": [],
   "source": [
    "import numpy as np\n",
    "import pandas as pd\n",
    "import statsmodels.api as sm\n",
    "import matplotlib.pyplot as plt\n",
    "import seaborn as sns\n",
    "import math\n",
    "\n",
    "from scipy.stats import norm\n",
    "from sklearn.linear_model import LinearRegression\n",
    "from sklearn.model_selection import train_test_split\n",
    "from sklearn import preprocessing\n",
    "from sklearn.metrics import mean_absolute_error\n",
    "\n"
   ]
  },
  {
   "cell_type": "markdown",
   "id": "95579e19",
   "metadata": {},
   "source": [
    "## Read data from csv file"
   ]
  },
  {
   "cell_type": "code",
   "execution_count": 1002,
   "id": "bd4d895a",
   "metadata": {},
   "outputs": [],
   "source": [
    "# Read a comma-separated values (csv) file into DataFrame\n",
    "df = pd.read_csv('Melbourne_housing_FULL.csv')"
   ]
  },
  {
   "cell_type": "code",
   "execution_count": 1003,
   "id": "cb4f1fc4",
   "metadata": {},
   "outputs": [
    {
     "data": {
      "text/html": [
       "<div>\n",
       "<style scoped>\n",
       "    .dataframe tbody tr th:only-of-type {\n",
       "        vertical-align: middle;\n",
       "    }\n",
       "\n",
       "    .dataframe tbody tr th {\n",
       "        vertical-align: top;\n",
       "    }\n",
       "\n",
       "    .dataframe thead th {\n",
       "        text-align: right;\n",
       "    }\n",
       "</style>\n",
       "<table border=\"1\" class=\"dataframe\">\n",
       "  <thead>\n",
       "    <tr style=\"text-align: right;\">\n",
       "      <th></th>\n",
       "      <th>Suburb</th>\n",
       "      <th>Address</th>\n",
       "      <th>Rooms</th>\n",
       "      <th>Type</th>\n",
       "      <th>Price</th>\n",
       "      <th>Method</th>\n",
       "      <th>SellerG</th>\n",
       "      <th>Date</th>\n",
       "      <th>Distance</th>\n",
       "      <th>Postcode</th>\n",
       "      <th>Bedroom2</th>\n",
       "      <th>Bathroom</th>\n",
       "      <th>Car</th>\n",
       "      <th>Landsize</th>\n",
       "      <th>BuildingArea</th>\n",
       "      <th>YearBuilt</th>\n",
       "      <th>CouncilArea</th>\n",
       "      <th>Lattitude</th>\n",
       "      <th>Longtitude</th>\n",
       "      <th>Regionname</th>\n",
       "      <th>Propertycount</th>\n",
       "    </tr>\n",
       "  </thead>\n",
       "  <tbody>\n",
       "    <tr>\n",
       "      <th>0</th>\n",
       "      <td>Abbotsford</td>\n",
       "      <td>68 Studley St</td>\n",
       "      <td>2</td>\n",
       "      <td>h</td>\n",
       "      <td>NaN</td>\n",
       "      <td>SS</td>\n",
       "      <td>Jellis</td>\n",
       "      <td>3/09/2016</td>\n",
       "      <td>2.5</td>\n",
       "      <td>3067.0</td>\n",
       "      <td>2.0</td>\n",
       "      <td>1.0</td>\n",
       "      <td>1.0</td>\n",
       "      <td>126.0</td>\n",
       "      <td>NaN</td>\n",
       "      <td>NaN</td>\n",
       "      <td>Yarra City Council</td>\n",
       "      <td>-37.8014</td>\n",
       "      <td>144.9958</td>\n",
       "      <td>Northern Metropolitan</td>\n",
       "      <td>4019.0</td>\n",
       "    </tr>\n",
       "    <tr>\n",
       "      <th>1</th>\n",
       "      <td>Abbotsford</td>\n",
       "      <td>85 Turner St</td>\n",
       "      <td>2</td>\n",
       "      <td>h</td>\n",
       "      <td>1480000.0</td>\n",
       "      <td>S</td>\n",
       "      <td>Biggin</td>\n",
       "      <td>3/12/2016</td>\n",
       "      <td>2.5</td>\n",
       "      <td>3067.0</td>\n",
       "      <td>2.0</td>\n",
       "      <td>1.0</td>\n",
       "      <td>1.0</td>\n",
       "      <td>202.0</td>\n",
       "      <td>NaN</td>\n",
       "      <td>NaN</td>\n",
       "      <td>Yarra City Council</td>\n",
       "      <td>-37.7996</td>\n",
       "      <td>144.9984</td>\n",
       "      <td>Northern Metropolitan</td>\n",
       "      <td>4019.0</td>\n",
       "    </tr>\n",
       "    <tr>\n",
       "      <th>2</th>\n",
       "      <td>Abbotsford</td>\n",
       "      <td>25 Bloomburg St</td>\n",
       "      <td>2</td>\n",
       "      <td>h</td>\n",
       "      <td>1035000.0</td>\n",
       "      <td>S</td>\n",
       "      <td>Biggin</td>\n",
       "      <td>4/02/2016</td>\n",
       "      <td>2.5</td>\n",
       "      <td>3067.0</td>\n",
       "      <td>2.0</td>\n",
       "      <td>1.0</td>\n",
       "      <td>0.0</td>\n",
       "      <td>156.0</td>\n",
       "      <td>79.0</td>\n",
       "      <td>1900.0</td>\n",
       "      <td>Yarra City Council</td>\n",
       "      <td>-37.8079</td>\n",
       "      <td>144.9934</td>\n",
       "      <td>Northern Metropolitan</td>\n",
       "      <td>4019.0</td>\n",
       "    </tr>\n",
       "    <tr>\n",
       "      <th>3</th>\n",
       "      <td>Abbotsford</td>\n",
       "      <td>18/659 Victoria St</td>\n",
       "      <td>3</td>\n",
       "      <td>u</td>\n",
       "      <td>NaN</td>\n",
       "      <td>VB</td>\n",
       "      <td>Rounds</td>\n",
       "      <td>4/02/2016</td>\n",
       "      <td>2.5</td>\n",
       "      <td>3067.0</td>\n",
       "      <td>3.0</td>\n",
       "      <td>2.0</td>\n",
       "      <td>1.0</td>\n",
       "      <td>0.0</td>\n",
       "      <td>NaN</td>\n",
       "      <td>NaN</td>\n",
       "      <td>Yarra City Council</td>\n",
       "      <td>-37.8114</td>\n",
       "      <td>145.0116</td>\n",
       "      <td>Northern Metropolitan</td>\n",
       "      <td>4019.0</td>\n",
       "    </tr>\n",
       "    <tr>\n",
       "      <th>4</th>\n",
       "      <td>Abbotsford</td>\n",
       "      <td>5 Charles St</td>\n",
       "      <td>3</td>\n",
       "      <td>h</td>\n",
       "      <td>1465000.0</td>\n",
       "      <td>SP</td>\n",
       "      <td>Biggin</td>\n",
       "      <td>4/03/2017</td>\n",
       "      <td>2.5</td>\n",
       "      <td>3067.0</td>\n",
       "      <td>3.0</td>\n",
       "      <td>2.0</td>\n",
       "      <td>0.0</td>\n",
       "      <td>134.0</td>\n",
       "      <td>150.0</td>\n",
       "      <td>1900.0</td>\n",
       "      <td>Yarra City Council</td>\n",
       "      <td>-37.8093</td>\n",
       "      <td>144.9944</td>\n",
       "      <td>Northern Metropolitan</td>\n",
       "      <td>4019.0</td>\n",
       "    </tr>\n",
       "  </tbody>\n",
       "</table>\n",
       "</div>"
      ],
      "text/plain": [
       "       Suburb             Address  Rooms Type      Price Method SellerG  \\\n",
       "0  Abbotsford       68 Studley St      2    h        NaN     SS  Jellis   \n",
       "1  Abbotsford        85 Turner St      2    h  1480000.0      S  Biggin   \n",
       "2  Abbotsford     25 Bloomburg St      2    h  1035000.0      S  Biggin   \n",
       "3  Abbotsford  18/659 Victoria St      3    u        NaN     VB  Rounds   \n",
       "4  Abbotsford        5 Charles St      3    h  1465000.0     SP  Biggin   \n",
       "\n",
       "        Date  Distance  Postcode  Bedroom2  Bathroom  Car  Landsize  \\\n",
       "0  3/09/2016       2.5    3067.0       2.0       1.0  1.0     126.0   \n",
       "1  3/12/2016       2.5    3067.0       2.0       1.0  1.0     202.0   \n",
       "2  4/02/2016       2.5    3067.0       2.0       1.0  0.0     156.0   \n",
       "3  4/02/2016       2.5    3067.0       3.0       2.0  1.0       0.0   \n",
       "4  4/03/2017       2.5    3067.0       3.0       2.0  0.0     134.0   \n",
       "\n",
       "   BuildingArea  YearBuilt         CouncilArea  Lattitude  Longtitude  \\\n",
       "0           NaN        NaN  Yarra City Council   -37.8014    144.9958   \n",
       "1           NaN        NaN  Yarra City Council   -37.7996    144.9984   \n",
       "2          79.0     1900.0  Yarra City Council   -37.8079    144.9934   \n",
       "3           NaN        NaN  Yarra City Council   -37.8114    145.0116   \n",
       "4         150.0     1900.0  Yarra City Council   -37.8093    144.9944   \n",
       "\n",
       "              Regionname  Propertycount  \n",
       "0  Northern Metropolitan         4019.0  \n",
       "1  Northern Metropolitan         4019.0  \n",
       "2  Northern Metropolitan         4019.0  \n",
       "3  Northern Metropolitan         4019.0  \n",
       "4  Northern Metropolitan         4019.0  "
      ]
     },
     "execution_count": 1003,
     "metadata": {},
     "output_type": "execute_result"
    }
   ],
   "source": [
    "# Return the first n rows\n",
    "df.head()"
   ]
  },
  {
   "cell_type": "markdown",
   "id": "5a1fe5c6",
   "metadata": {},
   "source": [
    "## Exploratory Data Analysis"
   ]
  },
  {
   "cell_type": "code",
   "execution_count": 1004,
   "id": "cf864e2d",
   "metadata": {},
   "outputs": [
    {
     "name": "stdout",
     "output_type": "stream",
     "text": [
      "<class 'pandas.core.frame.DataFrame'>\n",
      "RangeIndex: 34857 entries, 0 to 34856\n",
      "Data columns (total 21 columns):\n",
      " #   Column         Non-Null Count  Dtype  \n",
      "---  ------         --------------  -----  \n",
      " 0   Suburb         34857 non-null  object \n",
      " 1   Address        34857 non-null  object \n",
      " 2   Rooms          34857 non-null  int64  \n",
      " 3   Type           34857 non-null  object \n",
      " 4   Price          27247 non-null  float64\n",
      " 5   Method         34857 non-null  object \n",
      " 6   SellerG        34857 non-null  object \n",
      " 7   Date           34857 non-null  object \n",
      " 8   Distance       34856 non-null  float64\n",
      " 9   Postcode       34856 non-null  float64\n",
      " 10  Bedroom2       26640 non-null  float64\n",
      " 11  Bathroom       26631 non-null  float64\n",
      " 12  Car            26129 non-null  float64\n",
      " 13  Landsize       23047 non-null  float64\n",
      " 14  BuildingArea   13742 non-null  float64\n",
      " 15  YearBuilt      15551 non-null  float64\n",
      " 16  CouncilArea    34854 non-null  object \n",
      " 17  Lattitude      26881 non-null  float64\n",
      " 18  Longtitude     26881 non-null  float64\n",
      " 19  Regionname     34854 non-null  object \n",
      " 20  Propertycount  34854 non-null  float64\n",
      "dtypes: float64(12), int64(1), object(8)\n",
      "memory usage: 5.6+ MB\n"
     ]
    }
   ],
   "source": [
    "# Check number of rows, columns and column data types\n",
    "df.info()"
   ]
  },
  {
   "cell_type": "code",
   "execution_count": 1006,
   "id": "ac894b06",
   "metadata": {
    "scrolled": false
   },
   "outputs": [
    {
     "data": {
      "image/png": "[encoded data removed]",
      "text/plain": [
       "<Figure size 1152x720 with 1 Axes>"
      ]
     },
     "metadata": {
      "needs_background": "light"
     },
     "output_type": "display_data"
    }
   ],
   "source": [
    "#checking missing values\n",
    "plt.figure(figsize = (16,10))\n",
    "missing = df.isnull().sum()\n",
    "missing = missing[missing > 5]\n",
    "missing = missing.sort_values(ascending = False)\n",
    "missing.plot.bar(color='skyblue')\n",
    "plt.title('Missing Data');"
   ]
  },
  {
   "cell_type": "code",
   "execution_count": 912,
   "id": "761661ec",
   "metadata": {},
   "outputs": [
    {
     "data": {
      "text/plain": [
       "Suburb               0\n",
       "Address              0\n",
       "Rooms                0\n",
       "Type                 0\n",
       "Price             7610\n",
       "Method               0\n",
       "SellerG              0\n",
       "Date                 0\n",
       "Distance             1\n",
       "Postcode             1\n",
       "Bedroom2          8217\n",
       "Bathroom          8226\n",
       "Car               8728\n",
       "Landsize         11810\n",
       "BuildingArea     21115\n",
       "YearBuilt        19306\n",
       "CouncilArea          3\n",
       "Lattitude         7976\n",
       "Longtitude        7976\n",
       "Regionname           3\n",
       "Propertycount        3\n",
       "dtype: int64"
      ]
     },
     "execution_count": 912,
     "metadata": {},
     "output_type": "execute_result"
    }
   ],
   "source": [
    "# Check Null Values\n",
    "df.isnull().sum()"
   ]
  },
  {
   "cell_type": "code",
   "execution_count": 913,
   "id": "f4ad8f86",
   "metadata": {},
   "outputs": [
    {
     "data": {
      "text/html": [
       "<div>\n",
       "<style scoped>\n",
       "    .dataframe tbody tr th:only-of-type {\n",
       "        vertical-align: middle;\n",
       "    }\n",
       "\n",
       "    .dataframe tbody tr th {\n",
       "        vertical-align: top;\n",
       "    }\n",
       "\n",
       "    .dataframe thead th {\n",
       "        text-align: right;\n",
       "    }\n",
       "</style>\n",
       "<table border=\"1\" class=\"dataframe\">\n",
       "  <thead>\n",
       "    <tr style=\"text-align: right;\">\n",
       "      <th></th>\n",
       "      <th>Rooms</th>\n",
       "      <th>Price</th>\n",
       "      <th>Distance</th>\n",
       "      <th>Postcode</th>\n",
       "      <th>Bedroom2</th>\n",
       "      <th>Bathroom</th>\n",
       "      <th>Car</th>\n",
       "      <th>Landsize</th>\n",
       "      <th>BuildingArea</th>\n",
       "      <th>YearBuilt</th>\n",
       "      <th>Lattitude</th>\n",
       "      <th>Longtitude</th>\n",
       "      <th>Propertycount</th>\n",
       "    </tr>\n",
       "  </thead>\n",
       "  <tbody>\n",
       "    <tr>\n",
       "      <th>count</th>\n",
       "      <td>34857.000000</td>\n",
       "      <td>2.724700e+04</td>\n",
       "      <td>34856.000000</td>\n",
       "      <td>34856.000000</td>\n",
       "      <td>26640.000000</td>\n",
       "      <td>26631.000000</td>\n",
       "      <td>26129.000000</td>\n",
       "      <td>23047.000000</td>\n",
       "      <td>13742.00000</td>\n",
       "      <td>15551.000000</td>\n",
       "      <td>26881.000000</td>\n",
       "      <td>26881.000000</td>\n",
       "      <td>34854.000000</td>\n",
       "    </tr>\n",
       "    <tr>\n",
       "      <th>mean</th>\n",
       "      <td>3.031012</td>\n",
       "      <td>1.050173e+06</td>\n",
       "      <td>11.184929</td>\n",
       "      <td>3116.062859</td>\n",
       "      <td>3.084647</td>\n",
       "      <td>1.624798</td>\n",
       "      <td>1.728845</td>\n",
       "      <td>593.598993</td>\n",
       "      <td>160.25640</td>\n",
       "      <td>1965.289885</td>\n",
       "      <td>-37.810634</td>\n",
       "      <td>145.001851</td>\n",
       "      <td>7572.888306</td>\n",
       "    </tr>\n",
       "    <tr>\n",
       "      <th>std</th>\n",
       "      <td>0.969933</td>\n",
       "      <td>6.414671e+05</td>\n",
       "      <td>6.788892</td>\n",
       "      <td>109.023903</td>\n",
       "      <td>0.980690</td>\n",
       "      <td>0.724212</td>\n",
       "      <td>1.010771</td>\n",
       "      <td>3398.841946</td>\n",
       "      <td>401.26706</td>\n",
       "      <td>37.328178</td>\n",
       "      <td>0.090279</td>\n",
       "      <td>0.120169</td>\n",
       "      <td>4428.090313</td>\n",
       "    </tr>\n",
       "    <tr>\n",
       "      <th>min</th>\n",
       "      <td>1.000000</td>\n",
       "      <td>8.500000e+04</td>\n",
       "      <td>0.000000</td>\n",
       "      <td>3000.000000</td>\n",
       "      <td>0.000000</td>\n",
       "      <td>0.000000</td>\n",
       "      <td>0.000000</td>\n",
       "      <td>0.000000</td>\n",
       "      <td>0.00000</td>\n",
       "      <td>1196.000000</td>\n",
       "      <td>-38.190430</td>\n",
       "      <td>144.423790</td>\n",
       "      <td>83.000000</td>\n",
       "    </tr>\n",
       "    <tr>\n",
       "      <th>25%</th>\n",
       "      <td>2.000000</td>\n",
       "      <td>6.350000e+05</td>\n",
       "      <td>6.400000</td>\n",
       "      <td>3051.000000</td>\n",
       "      <td>2.000000</td>\n",
       "      <td>1.000000</td>\n",
       "      <td>1.000000</td>\n",
       "      <td>224.000000</td>\n",
       "      <td>102.00000</td>\n",
       "      <td>1940.000000</td>\n",
       "      <td>-37.862950</td>\n",
       "      <td>144.933500</td>\n",
       "      <td>4385.000000</td>\n",
       "    </tr>\n",
       "    <tr>\n",
       "      <th>50%</th>\n",
       "      <td>3.000000</td>\n",
       "      <td>8.700000e+05</td>\n",
       "      <td>10.300000</td>\n",
       "      <td>3103.000000</td>\n",
       "      <td>3.000000</td>\n",
       "      <td>2.000000</td>\n",
       "      <td>2.000000</td>\n",
       "      <td>521.000000</td>\n",
       "      <td>136.00000</td>\n",
       "      <td>1970.000000</td>\n",
       "      <td>-37.807600</td>\n",
       "      <td>145.007800</td>\n",
       "      <td>6763.000000</td>\n",
       "    </tr>\n",
       "    <tr>\n",
       "      <th>75%</th>\n",
       "      <td>4.000000</td>\n",
       "      <td>1.295000e+06</td>\n",
       "      <td>14.000000</td>\n",
       "      <td>3156.000000</td>\n",
       "      <td>4.000000</td>\n",
       "      <td>2.000000</td>\n",
       "      <td>2.000000</td>\n",
       "      <td>670.000000</td>\n",
       "      <td>188.00000</td>\n",
       "      <td>2000.000000</td>\n",
       "      <td>-37.754100</td>\n",
       "      <td>145.071900</td>\n",
       "      <td>10412.000000</td>\n",
       "    </tr>\n",
       "    <tr>\n",
       "      <th>max</th>\n",
       "      <td>16.000000</td>\n",
       "      <td>1.120000e+07</td>\n",
       "      <td>48.100000</td>\n",
       "      <td>3978.000000</td>\n",
       "      <td>30.000000</td>\n",
       "      <td>12.000000</td>\n",
       "      <td>26.000000</td>\n",
       "      <td>433014.000000</td>\n",
       "      <td>44515.00000</td>\n",
       "      <td>2106.000000</td>\n",
       "      <td>-37.390200</td>\n",
       "      <td>145.526350</td>\n",
       "      <td>21650.000000</td>\n",
       "    </tr>\n",
       "  </tbody>\n",
       "</table>\n",
       "</div>"
      ],
      "text/plain": [
       "              Rooms         Price      Distance      Postcode      Bedroom2  \\\n",
       "count  34857.000000  2.724700e+04  34856.000000  34856.000000  26640.000000   \n",
       "mean       3.031012  1.050173e+06     11.184929   3116.062859      3.084647   \n",
       "std        0.969933  6.414671e+05      6.788892    109.023903      0.980690   \n",
       "min        1.000000  8.500000e+04      0.000000   3000.000000      0.000000   \n",
       "25%        2.000000  6.350000e+05      6.400000   3051.000000      2.000000   \n",
       "50%        3.000000  8.700000e+05     10.300000   3103.000000      3.000000   \n",
       "75%        4.000000  1.295000e+06     14.000000   3156.000000      4.000000   \n",
       "max       16.000000  1.120000e+07     48.100000   3978.000000     30.000000   \n",
       "\n",
       "           Bathroom           Car       Landsize  BuildingArea     YearBuilt  \\\n",
       "count  26631.000000  26129.000000   23047.000000   13742.00000  15551.000000   \n",
       "mean       1.624798      1.728845     593.598993     160.25640   1965.289885   \n",
       "std        0.724212      1.010771    3398.841946     401.26706     37.328178   \n",
       "min        0.000000      0.000000       0.000000       0.00000   1196.000000   \n",
       "25%        1.000000      1.000000     224.000000     102.00000   1940.000000   \n",
       "50%        2.000000      2.000000     521.000000     136.00000   1970.000000   \n",
       "75%        2.000000      2.000000     670.000000     188.00000   2000.000000   \n",
       "max       12.000000     26.000000  433014.000000   44515.00000   2106.000000   \n",
       "\n",
       "          Lattitude    Longtitude  Propertycount  \n",
       "count  26881.000000  26881.000000   34854.000000  \n",
       "mean     -37.810634    145.001851    7572.888306  \n",
       "std        0.090279      0.120169    4428.090313  \n",
       "min      -38.190430    144.423790      83.000000  \n",
       "25%      -37.862950    144.933500    4385.000000  \n",
       "50%      -37.807600    145.007800    6763.000000  \n",
       "75%      -37.754100    145.071900   10412.000000  \n",
       "max      -37.390200    145.526350   21650.000000  "
      ]
     },
     "execution_count": 913,
     "metadata": {},
     "output_type": "execute_result"
    }
   ],
   "source": [
    "# Generates descriptive statistics.\n",
    "df.describe()"
   ]
  },
  {
   "cell_type": "markdown",
   "id": "6d9aec4d",
   "metadata": {},
   "source": [
    "### Data Dictionary"
   ]
  },
  {
   "cell_type": "code",
   "execution_count": 914,
   "id": "b41248c4",
   "metadata": {},
   "outputs": [],
   "source": [
    "data_dictionary = [('Suburb', 'string', 'Suburb'),\n",
    "                   ('Address', 'string', 'Address'),\n",
    "                   ('Rooms', 'int64', 'Number of rooms'),\n",
    "                   ('Type', 'string', 'h = house,cottage,villa, semi,terrace, u = unit, duplex, t = townhouse, dev site = development site, o res = other residential'),\n",
    "                   ('Price', 'float64', 'Price in Australian dollars'),\n",
    "                   ('Method', 'string', 'S = property sold, SP = property sold prior, PI = property passed in, PN = sold prior not disclosed, SN = sold not disclosed, NB = no bid, VB = vendor bid, W = withdrawn prior to auction, SA = sold after auction, SS = sold after auction price not disclosed, N/A = price or highest bid not available'),\n",
    "                   ('SellerG', 'string', 'Real estate agents name'),\n",
    "                   ('Date', 'datetime64', 'Date sold'),\n",
    "                   ('Distance', 'float64', 'Distance from Cetral Business District (CBD) in Kilometres'),\n",
    "                   ('Postcode', 'float64', 'Post code'),\n",
    "                   ('Bedroom2', 'float64', 'Number of bedrooms'),\n",
    "                   ('Bathroom', 'float64', 'Number of bathrooms'),\n",
    "                   ('Car', 'float64', 'Number of parking slots'),\n",
    "                   ('Landsize', 'float64', 'Land Size in metres'),\n",
    "                   ('BuildingArea', 'float64', 'Building size in metres'),\n",
    "                   ('YearBuilt', 'float64', 'Year the house was built'),\n",
    "                   ('CouncilArea', 'string', 'Governing council for the area'),\n",
    "                   ('Lattitude', 'float64', 'Latitude'),\n",
    "                   ('Longtitude', 'float64', 'Longitude'),\n",
    "                   ('Regionname', 'string', 'General region (West, North West, North, North east …etc)'),\n",
    "                   ('Propertycount', 'float64', 'Number of property'),]"
   ]
  },
  {
   "cell_type": "code",
   "execution_count": 915,
   "id": "cb00f5af",
   "metadata": {},
   "outputs": [
    {
     "data": {
      "text/html": [
       "<div>\n",
       "<style scoped>\n",
       "    .dataframe tbody tr th:only-of-type {\n",
       "        vertical-align: middle;\n",
       "    }\n",
       "\n",
       "    .dataframe tbody tr th {\n",
       "        vertical-align: top;\n",
       "    }\n",
       "\n",
       "    .dataframe thead th {\n",
       "        text-align: right;\n",
       "    }\n",
       "</style>\n",
       "<table border=\"1\" class=\"dataframe\">\n",
       "  <thead>\n",
       "    <tr style=\"text-align: right;\">\n",
       "      <th></th>\n",
       "      <th>Column Name</th>\n",
       "      <th>Column Type</th>\n",
       "      <th>Brief Description</th>\n",
       "    </tr>\n",
       "  </thead>\n",
       "  <tbody>\n",
       "    <tr>\n",
       "      <th>0</th>\n",
       "      <td>Suburb</td>\n",
       "      <td>string</td>\n",
       "      <td>Suburb</td>\n",
       "    </tr>\n",
       "    <tr>\n",
       "      <th>1</th>\n",
       "      <td>Address</td>\n",
       "      <td>string</td>\n",
       "      <td>Address</td>\n",
       "    </tr>\n",
       "    <tr>\n",
       "      <th>2</th>\n",
       "      <td>Rooms</td>\n",
       "      <td>int64</td>\n",
       "      <td>Number of rooms</td>\n",
       "    </tr>\n",
       "    <tr>\n",
       "      <th>3</th>\n",
       "      <td>Type</td>\n",
       "      <td>string</td>\n",
       "      <td>h = house,cottage,villa, semi,terrace, u = unit, duplex, t = townhouse, dev site = development site, o res = other residential</td>\n",
       "    </tr>\n",
       "    <tr>\n",
       "      <th>4</th>\n",
       "      <td>Price</td>\n",
       "      <td>float64</td>\n",
       "      <td>Price in Australian dollars</td>\n",
       "    </tr>\n",
       "    <tr>\n",
       "      <th>5</th>\n",
       "      <td>Method</td>\n",
       "      <td>string</td>\n",
       "      <td>S = property sold, SP = property sold prior, PI = property passed in, PN = sold prior not disclosed, SN = sold not disclosed, NB = no bid, VB = vendor bid, W = withdrawn prior to auction, SA = sold after auction, SS = sold after auction price not disclosed, N/A = price or highest bid not available</td>\n",
       "    </tr>\n",
       "    <tr>\n",
       "      <th>6</th>\n",
       "      <td>SellerG</td>\n",
       "      <td>string</td>\n",
       "      <td>Real estate agents name</td>\n",
       "    </tr>\n",
       "    <tr>\n",
       "      <th>7</th>\n",
       "      <td>Date</td>\n",
       "      <td>datetime64</td>\n",
       "      <td>Date sold</td>\n",
       "    </tr>\n",
       "    <tr>\n",
       "      <th>8</th>\n",
       "      <td>Distance</td>\n",
       "      <td>float64</td>\n",
       "      <td>Distance from Cetral Business District (CBD) in Kilometres</td>\n",
       "    </tr>\n",
       "    <tr>\n",
       "      <th>9</th>\n",
       "      <td>Postcode</td>\n",
       "      <td>float64</td>\n",
       "      <td>Post code</td>\n",
       "    </tr>\n",
       "    <tr>\n",
       "      <th>10</th>\n",
       "      <td>Bedroom2</td>\n",
       "      <td>float64</td>\n",
       "      <td>Number of bedrooms</td>\n",
       "    </tr>\n",
       "    <tr>\n",
       "      <th>11</th>\n",
       "      <td>Bathroom</td>\n",
       "      <td>float64</td>\n",
       "      <td>Number of bathrooms</td>\n",
       "    </tr>\n",
       "    <tr>\n",
       "      <th>12</th>\n",
       "      <td>Car</td>\n",
       "      <td>float64</td>\n",
       "      <td>Number of parking slots</td>\n",
       "    </tr>\n",
       "    <tr>\n",
       "      <th>13</th>\n",
       "      <td>Landsize</td>\n",
       "      <td>float64</td>\n",
       "      <td>Land Size in metres</td>\n",
       "    </tr>\n",
       "    <tr>\n",
       "      <th>14</th>\n",
       "      <td>BuildingArea</td>\n",
       "      <td>float64</td>\n",
       "      <td>Building size in metres</td>\n",
       "    </tr>\n",
       "    <tr>\n",
       "      <th>15</th>\n",
       "      <td>YearBuilt</td>\n",
       "      <td>float64</td>\n",
       "      <td>Year the house was built</td>\n",
       "    </tr>\n",
       "    <tr>\n",
       "      <th>16</th>\n",
       "      <td>CouncilArea</td>\n",
       "      <td>string</td>\n",
       "      <td>Governing council for the area</td>\n",
       "    </tr>\n",
       "    <tr>\n",
       "      <th>17</th>\n",
       "      <td>Lattitude</td>\n",
       "      <td>float64</td>\n",
       "      <td>Latitude</td>\n",
       "    </tr>\n",
       "    <tr>\n",
       "      <th>18</th>\n",
       "      <td>Longtitude</td>\n",
       "      <td>float64</td>\n",
       "      <td>Longitude</td>\n",
       "    </tr>\n",
       "    <tr>\n",
       "      <th>19</th>\n",
       "      <td>Regionname</td>\n",
       "      <td>string</td>\n",
       "      <td>General region (West, North West, North, North east …etc)</td>\n",
       "    </tr>\n",
       "    <tr>\n",
       "      <th>20</th>\n",
       "      <td>Propertycount</td>\n",
       "      <td>float64</td>\n",
       "      <td>Number of property</td>\n",
       "    </tr>\n",
       "  </tbody>\n",
       "</table>\n",
       "</div>"
      ],
      "text/plain": [
       "      Column Name Column Type  \\\n",
       "0          Suburb      string   \n",
       "1         Address      string   \n",
       "2           Rooms       int64   \n",
       "3            Type      string   \n",
       "4           Price     float64   \n",
       "5          Method      string   \n",
       "6         SellerG      string   \n",
       "7            Date  datetime64   \n",
       "8        Distance     float64   \n",
       "9        Postcode     float64   \n",
       "10       Bedroom2     float64   \n",
       "11       Bathroom     float64   \n",
       "12            Car     float64   \n",
       "13       Landsize     float64   \n",
       "14   BuildingArea     float64   \n",
       "15      YearBuilt     float64   \n",
       "16    CouncilArea      string   \n",
       "17      Lattitude     float64   \n",
       "18     Longtitude     float64   \n",
       "19     Regionname      string   \n",
       "20  Propertycount     float64   \n",
       "\n",
       "                                                                                                                                                                                                                                                                                             Brief Description  \n",
       "0                                                                                                                                                                                                                                                                                                       Suburb  \n",
       "1                                                                                                                                                                                                                                                                                                      Address  \n",
       "2                                                                                                                                                                                                                                                                                              Number of rooms  \n",
       "3                                                                                                                                                                               h = house,cottage,villa, semi,terrace, u = unit, duplex, t = townhouse, dev site = development site, o res = other residential  \n",
       "4                                                                                                                                                                                                                                                                                  Price in Australian dollars  \n",
       "5   S = property sold, SP = property sold prior, PI = property passed in, PN = sold prior not disclosed, SN = sold not disclosed, NB = no bid, VB = vendor bid, W = withdrawn prior to auction, SA = sold after auction, SS = sold after auction price not disclosed, N/A = price or highest bid not available  \n",
       "6                                                                                                                                                                                                                                                                                      Real estate agents name  \n",
       "7                                                                                                                                                                                                                                                                                                    Date sold  \n",
       "8                                                                                                                                                                                                                                                   Distance from Cetral Business District (CBD) in Kilometres  \n",
       "9                                                                                                                                                                                                                                                                                                    Post code  \n",
       "10                                                                                                                                                                                                                                                                                          Number of bedrooms  \n",
       "11                                                                                                                                                                                                                                                                                         Number of bathrooms  \n",
       "12                                                                                                                                                                                                                                                                                     Number of parking slots  \n",
       "13                                                                                                                                                                                                                                                                                         Land Size in metres  \n",
       "14                                                                                                                                                                                                                                                                                     Building size in metres  \n",
       "15                                                                                                                                                                                                                                                                                    Year the house was built  \n",
       "16                                                                                                                                                                                                                                                                              Governing council for the area  \n",
       "17                                                                                                                                                                                                                                                                                                    Latitude  \n",
       "18                                                                                                                                                                                                                                                                                                   Longitude  \n",
       "19                                                                                                                                                                                                                                                   General region (West, North West, North, North east …etc)  \n",
       "20                                                                                                                                                                                                                                                                                          Number of property  "
      ]
     },
     "execution_count": 915,
     "metadata": {},
     "output_type": "execute_result"
    }
   ],
   "source": [
    "# Creates Data frame for the data dictionary\n",
    "dd = pd.DataFrame(data_dictionary, columns=['Column Name', 'Column Type', 'Brief Description'])\n",
    "pd.set_option('max_colwidth', None)\n",
    "dd.head(21)"
   ]
  },
  {
   "cell_type": "markdown",
   "id": "c4cabe49",
   "metadata": {},
   "source": [
    "### Data Cleaning"
   ]
  },
  {
   "cell_type": "code",
   "execution_count": 916,
   "id": "b4bdbad9",
   "metadata": {},
   "outputs": [],
   "source": [
    "# Dropping Columns with more than 10k null values and duplicate columns\n",
    "df = df.drop(columns=['Landsize', 'BuildingArea','YearBuilt','Bedroom2','Propertycount'])"
   ]
  },
  {
   "cell_type": "code",
   "execution_count": 917,
   "id": "41b43fae",
   "metadata": {},
   "outputs": [],
   "source": [
    "# For the type column, replace h with House, u with Unit and t with Townhouse\n",
    "df['Type'] = df['Type'].replace({'h':'House', 'u':'Unit', 't':'Townhouse'})"
   ]
  },
  {
   "cell_type": "code",
   "execution_count": 918,
   "id": "de7b8a79",
   "metadata": {},
   "outputs": [
    {
     "data": {
      "text/plain": [
       "House        23980\n",
       "Unit          7297\n",
       "Townhouse     3580\n",
       "Name: Type, dtype: int64"
      ]
     },
     "execution_count": 918,
     "metadata": {},
     "output_type": "execute_result"
    }
   ],
   "source": [
    "# Return a Series containing counts of unique values\n",
    "df['Type'].value_counts()"
   ]
  },
  {
   "cell_type": "code",
   "execution_count": 919,
   "id": "c860a3fd",
   "metadata": {},
   "outputs": [],
   "source": [
    "# For the method column, replace with appropraite values from data dictionary\n",
    "df['Method'] = df['Method'].replace({'S':'Property Sold', \n",
    "                                     'SP':'Property Sold Prior', \n",
    "                                     'PI':'Property Passed In',\n",
    "                                     'VB':'Vendor Bid',\n",
    "                                     'SN':'Sold, Price Not Disclosed',\n",
    "                                    'PN':'Sold Prior, Price Not Disclosed',\n",
    "                                    'SA':'Sold After Auction',\n",
    "                                    'W':'Withdrawn Prior To Auction',\n",
    "                                    'SS':'Sold After Auction, Price Not Disclosed'})"
   ]
  },
  {
   "cell_type": "code",
   "execution_count": 920,
   "id": "0c1e29c0",
   "metadata": {},
   "outputs": [
    {
     "data": {
      "text/plain": [
       "Property Sold                              19744\n",
       "Property Sold Prior                         5095\n",
       "Property Passed In                          4850\n",
       "Vendor Bid                                  3108\n",
       "Sold, Price Not Disclosed                   1317\n",
       "Sold Prior, Price Not Disclosed              308\n",
       "Sold After Auction                           226\n",
       "Withdrawn Prior To Auction                   173\n",
       "Sold After Auction, Price Not Disclosed       36\n",
       "Name: Method, dtype: int64"
      ]
     },
     "execution_count": 920,
     "metadata": {},
     "output_type": "execute_result"
    }
   ],
   "source": [
    "# Return a Series containing counts of unique values\n",
    "df['Method'].value_counts()"
   ]
  },
  {
   "cell_type": "code",
   "execution_count": 921,
   "id": "53ec1b2f",
   "metadata": {},
   "outputs": [],
   "source": [
    "# Drop rows with properties where price has not been disclosed\n",
    "df = df[df[\"Method\"].str.contains(\"Sold, Price Not Disclosed\") == False]\n",
    "df = df[df[\"Method\"].str.contains(\"Sold Prior, Price Not Disclosed\") == False]\n",
    "df = df[df[\"Method\"].str.contains(\"Sold After Auction, Price Not Disclosed\") == False]\n",
    "df = df[df[\"Method\"].str.contains(\"Withdrawn Prior To Auction\") == False]"
   ]
  },
  {
   "cell_type": "code",
   "execution_count": 922,
   "id": "269fd4d1",
   "metadata": {},
   "outputs": [],
   "source": [
    "# Replace remaining null values in price column with mean\n",
    "df['Price'].fillna(round(df[\"Price\"].mean(),0), inplace=True)"
   ]
  },
  {
   "cell_type": "code",
   "execution_count": 923,
   "id": "46007402",
   "metadata": {},
   "outputs": [],
   "source": [
    "# Replace remaining null values in Distance column with mean\n",
    "df['Distance'].fillna(round(df[\"Distance\"].mean(),1), inplace=True)"
   ]
  },
  {
   "cell_type": "code",
   "execution_count": 924,
   "id": "76eb1411",
   "metadata": {},
   "outputs": [],
   "source": [
    "# Drop only null value in the post code column\n",
    "df.dropna(subset=['Postcode'], how='all', inplace=True)"
   ]
  },
  {
   "cell_type": "code",
   "execution_count": 925,
   "id": "a85b848a",
   "metadata": {},
   "outputs": [],
   "source": [
    "# Drop null values in the bathroom column\n",
    "# This would automatically get rid of nulls in other columns such as Car and Price\n",
    "df.dropna(subset=['Bathroom'], how='all', inplace=True)"
   ]
  },
  {
   "cell_type": "code",
   "execution_count": 926,
   "id": "0708e2d4",
   "metadata": {},
   "outputs": [],
   "source": [
    "# Replace remaining null values in bathroom column with mean\n",
    "df['Bathroom'].fillna(round(df[\"Bathroom\"].mean(),0), inplace=True)"
   ]
  },
  {
   "cell_type": "code",
   "execution_count": 927,
   "id": "c3d58029",
   "metadata": {},
   "outputs": [],
   "source": [
    "# Replace remaining null values in Car column with mean\n",
    "df['Car'].fillna(round(df[\"Car\"].mean(),0), inplace=True)"
   ]
  },
  {
   "cell_type": "code",
   "execution_count": 928,
   "id": "8668e55b",
   "metadata": {},
   "outputs": [],
   "source": [
    "# Drop null values in the latutide and longitude column\n",
    "df.dropna(subset=['Lattitude'], how='all', inplace=True)\n",
    "df.dropna(subset=['Longtitude'], how='all', inplace=True)"
   ]
  },
  {
   "cell_type": "code",
   "execution_count": 929,
   "id": "ea3a3aa2",
   "metadata": {},
   "outputs": [
    {
     "data": {
      "text/plain": [
       "Suburb         0\n",
       "Address        0\n",
       "Rooms          0\n",
       "Type           0\n",
       "Price          0\n",
       "Method         0\n",
       "SellerG        0\n",
       "Date           0\n",
       "Distance       0\n",
       "Postcode       0\n",
       "Bathroom       0\n",
       "Car            0\n",
       "CouncilArea    0\n",
       "Lattitude      0\n",
       "Longtitude     0\n",
       "Regionname     0\n",
       "dtype: int64"
      ]
     },
     "execution_count": 929,
     "metadata": {},
     "output_type": "execute_result"
    }
   ],
   "source": [
    "# Remaining Nulls\n",
    "df.isnull().sum()"
   ]
  },
  {
   "cell_type": "code",
   "execution_count": 930,
   "id": "023544e4",
   "metadata": {},
   "outputs": [
    {
     "data": {
      "text/plain": [
       "Suburb           340\n",
       "Address        24549\n",
       "Rooms             12\n",
       "Type               3\n",
       "Price           2607\n",
       "Method             5\n",
       "SellerG          343\n",
       "Date              78\n",
       "Distance         213\n",
       "Postcode         209\n",
       "Bathroom          11\n",
       "Car               15\n",
       "CouncilArea       33\n",
       "Lattitude      12822\n",
       "Longtitude     13831\n",
       "Regionname         8\n",
       "dtype: int64"
      ]
     },
     "execution_count": 930,
     "metadata": {},
     "output_type": "execute_result"
    }
   ],
   "source": [
    "# Unique Values in each column\n",
    "df.nunique( )"
   ]
  },
  {
   "cell_type": "markdown",
   "id": "9b14ee14",
   "metadata": {},
   "source": [
    "## Analysing the distribution of the target variable"
   ]
  },
  {
   "cell_type": "code",
   "execution_count": 931,
   "id": "bdcead56",
   "metadata": {},
   "outputs": [
    {
     "data": {
      "image/png": "[encoded data removed]",
      "text/plain": [
       "<Figure size 1152x720 with 1 Axes>"
      ]
     },
     "metadata": {
      "needs_background": "light"
     },
     "output_type": "display_data"
    }
   ],
   "source": [
    "# Price is not normal\n",
    "plt.figure(figsize=[16,10])\n",
    "sns.distplot(df['Price'], color='blue',hist_kws=dict(edgecolor=\"black\", linewidth=2), bins=30)\n",
    "plt.title('Target Variable Distribution - Median Value of Homes ($1Ms)')\n",
    "plt.ticklabel_format(style='plain')\n",
    "plt.show()"
   ]
  },
  {
   "cell_type": "code",
   "execution_count": 875,
   "id": "ddedd664",
   "metadata": {
    "scrolled": true
   },
   "outputs": [
    {
     "name": "stdout",
     "output_type": "stream",
     "text": [
      "<class 'pandas.core.frame.DataFrame'>\n",
      "Int64Index: 25143 entries, 1 to 34856\n",
      "Data columns (total 16 columns):\n",
      " #   Column       Non-Null Count  Dtype  \n",
      "---  ------       --------------  -----  \n",
      " 0   Suburb       25143 non-null  object \n",
      " 1   Address      25143 non-null  object \n",
      " 2   Rooms        25143 non-null  int64  \n",
      " 3   Type         25143 non-null  object \n",
      " 4   Price        25143 non-null  float64\n",
      " 5   Method       25143 non-null  object \n",
      " 6   SellerG      25143 non-null  object \n",
      " 7   Date         25143 non-null  object \n",
      " 8   Distance     25143 non-null  float64\n",
      " 9   Postcode     25143 non-null  float64\n",
      " 10  Bathroom     25143 non-null  float64\n",
      " 11  Car          25143 non-null  float64\n",
      " 12  CouncilArea  25143 non-null  object \n",
      " 13  Lattitude    25143 non-null  float64\n",
      " 14  Longtitude   25143 non-null  float64\n",
      " 15  Regionname   25143 non-null  object \n",
      "dtypes: float64(7), int64(1), object(8)\n",
      "memory usage: 3.3+ MB\n"
     ]
    }
   ],
   "source": [
    "# Over view of cleaned dataset\n",
    "df.info()"
   ]
  },
  {
   "cell_type": "code",
   "execution_count": 932,
   "id": "bbab6af6",
   "metadata": {},
   "outputs": [
    {
     "data": {
      "text/html": [
       "<div>\n",
       "<style scoped>\n",
       "    .dataframe tbody tr th:only-of-type {\n",
       "        vertical-align: middle;\n",
       "    }\n",
       "\n",
       "    .dataframe tbody tr th {\n",
       "        vertical-align: top;\n",
       "    }\n",
       "\n",
       "    .dataframe thead th {\n",
       "        text-align: right;\n",
       "    }\n",
       "</style>\n",
       "<table border=\"1\" class=\"dataframe\">\n",
       "  <thead>\n",
       "    <tr style=\"text-align: right;\">\n",
       "      <th></th>\n",
       "      <th>Rooms</th>\n",
       "      <th>Price</th>\n",
       "      <th>Distance</th>\n",
       "      <th>Postcode</th>\n",
       "      <th>Bathroom</th>\n",
       "      <th>Car</th>\n",
       "      <th>Lattitude</th>\n",
       "      <th>Longtitude</th>\n",
       "    </tr>\n",
       "  </thead>\n",
       "  <tbody>\n",
       "    <tr>\n",
       "      <th>Rooms</th>\n",
       "      <td>1.000000</td>\n",
       "      <td>0.396158</td>\n",
       "      <td>0.269722</td>\n",
       "      <td>0.085791</td>\n",
       "      <td>0.611557</td>\n",
       "      <td>0.388450</td>\n",
       "      <td>0.006141</td>\n",
       "      <td>0.103807</td>\n",
       "    </tr>\n",
       "    <tr>\n",
       "      <th>Price</th>\n",
       "      <td>0.396158</td>\n",
       "      <td>1.000000</td>\n",
       "      <td>-0.215055</td>\n",
       "      <td>0.031713</td>\n",
       "      <td>0.376948</td>\n",
       "      <td>0.180014</td>\n",
       "      <td>-0.198150</td>\n",
       "      <td>0.180286</td>\n",
       "    </tr>\n",
       "    <tr>\n",
       "      <th>Distance</th>\n",
       "      <td>0.269722</td>\n",
       "      <td>-0.215055</td>\n",
       "      <td>1.000000</td>\n",
       "      <td>0.489074</td>\n",
       "      <td>0.130786</td>\n",
       "      <td>0.235890</td>\n",
       "      <td>-0.098476</td>\n",
       "      <td>0.201749</td>\n",
       "    </tr>\n",
       "    <tr>\n",
       "      <th>Postcode</th>\n",
       "      <td>0.085791</td>\n",
       "      <td>0.031713</td>\n",
       "      <td>0.489074</td>\n",
       "      <td>1.000000</td>\n",
       "      <td>0.121206</td>\n",
       "      <td>0.065595</td>\n",
       "      <td>-0.230059</td>\n",
       "      <td>0.363254</td>\n",
       "    </tr>\n",
       "    <tr>\n",
       "      <th>Bathroom</th>\n",
       "      <td>0.611557</td>\n",
       "      <td>0.376948</td>\n",
       "      <td>0.130786</td>\n",
       "      <td>0.121206</td>\n",
       "      <td>1.000000</td>\n",
       "      <td>0.303102</td>\n",
       "      <td>-0.057155</td>\n",
       "      <td>0.107677</td>\n",
       "    </tr>\n",
       "    <tr>\n",
       "      <th>Car</th>\n",
       "      <td>0.388450</td>\n",
       "      <td>0.180014</td>\n",
       "      <td>0.235890</td>\n",
       "      <td>0.065595</td>\n",
       "      <td>0.303102</td>\n",
       "      <td>1.000000</td>\n",
       "      <td>-0.007840</td>\n",
       "      <td>0.046715</td>\n",
       "    </tr>\n",
       "    <tr>\n",
       "      <th>Lattitude</th>\n",
       "      <td>0.006141</td>\n",
       "      <td>-0.198150</td>\n",
       "      <td>-0.098476</td>\n",
       "      <td>-0.230059</td>\n",
       "      <td>-0.057155</td>\n",
       "      <td>-0.007840</td>\n",
       "      <td>1.000000</td>\n",
       "      <td>-0.346665</td>\n",
       "    </tr>\n",
       "    <tr>\n",
       "      <th>Longtitude</th>\n",
       "      <td>0.103807</td>\n",
       "      <td>0.180286</td>\n",
       "      <td>0.201749</td>\n",
       "      <td>0.363254</td>\n",
       "      <td>0.107677</td>\n",
       "      <td>0.046715</td>\n",
       "      <td>-0.346665</td>\n",
       "      <td>1.000000</td>\n",
       "    </tr>\n",
       "  </tbody>\n",
       "</table>\n",
       "</div>"
      ],
      "text/plain": [
       "               Rooms     Price  Distance  Postcode  Bathroom       Car  \\\n",
       "Rooms       1.000000  0.396158  0.269722  0.085791  0.611557  0.388450   \n",
       "Price       0.396158  1.000000 -0.215055  0.031713  0.376948  0.180014   \n",
       "Distance    0.269722 -0.215055  1.000000  0.489074  0.130786  0.235890   \n",
       "Postcode    0.085791  0.031713  0.489074  1.000000  0.121206  0.065595   \n",
       "Bathroom    0.611557  0.376948  0.130786  0.121206  1.000000  0.303102   \n",
       "Car         0.388450  0.180014  0.235890  0.065595  0.303102  1.000000   \n",
       "Lattitude   0.006141 -0.198150 -0.098476 -0.230059 -0.057155 -0.007840   \n",
       "Longtitude  0.103807  0.180286  0.201749  0.363254  0.107677  0.046715   \n",
       "\n",
       "            Lattitude  Longtitude  \n",
       "Rooms        0.006141    0.103807  \n",
       "Price       -0.198150    0.180286  \n",
       "Distance    -0.098476    0.201749  \n",
       "Postcode    -0.230059    0.363254  \n",
       "Bathroom    -0.057155    0.107677  \n",
       "Car         -0.007840    0.046715  \n",
       "Lattitude    1.000000   -0.346665  \n",
       "Longtitude  -0.346665    1.000000  "
      ]
     },
     "execution_count": 932,
     "metadata": {},
     "output_type": "execute_result"
    }
   ],
   "source": [
    "# Correlation of all columns in the dataframe\n",
    "df.corr()"
   ]
  },
  {
   "cell_type": "code",
   "execution_count": 933,
   "id": "7a9f7a72",
   "metadata": {},
   "outputs": [
    {
     "data": {
      "text/plain": [
       "<AxesSubplot:>"
      ]
     },
     "execution_count": 933,
     "metadata": {},
     "output_type": "execute_result"
    },
    {
     "data": {
      "image/png": "[encoded data removed]",
      "text/plain": [
       "<Figure size 1152x720 with 2 Axes>"
      ]
     },
     "metadata": {
      "needs_background": "light"
     },
     "output_type": "display_data"
    }
   ],
   "source": [
    "# Co-relation heat map\n",
    "plt.figure(figsize = (16,10))\n",
    "sns.heatmap(df.corr(), cmap=\"YlGnBu\", annot=True)"
   ]
  },
  {
   "cell_type": "code",
   "execution_count": 999,
   "id": "f3731fc4",
   "metadata": {},
   "outputs": [
    {
     "data": {
      "text/plain": [
       "<AxesSubplot:title={'center':'Target Variable Distribution - Median Value of Homes ($1Ms)'}, xlabel='Rooms', ylabel='Price'>"
      ]
     },
     "execution_count": 999,
     "metadata": {},
     "output_type": "execute_result"
    },
    {
     "data": {
      "image/png": "[encoded data removed]",
      "text/plain": [
       "<Figure size 1152x720 with 1 Axes>"
      ]
     },
     "metadata": {
      "needs_background": "light"
     },
     "output_type": "display_data"
    }
   ],
   "source": [
    "# Average price for houses along their number of bedrooms:\n",
    "plt.figure(figsize=(16,10))\n",
    "plt.ticklabel_format(style='plain')\n",
    "plt.title('Target Variable Distribution - Median Value of Homes ($1Ms)')\n",
    "sns.barplot(x=df.Rooms, y=df['Price'], color='skyblue')"
   ]
  },
  {
   "cell_type": "code",
   "execution_count": 935,
   "id": "a1211960",
   "metadata": {},
   "outputs": [
    {
     "data": {
      "text/html": [
       "<div>\n",
       "<style scoped>\n",
       "    .dataframe tbody tr th:only-of-type {\n",
       "        vertical-align: middle;\n",
       "    }\n",
       "\n",
       "    .dataframe tbody tr th {\n",
       "        vertical-align: top;\n",
       "    }\n",
       "\n",
       "    .dataframe thead th {\n",
       "        text-align: right;\n",
       "    }\n",
       "</style>\n",
       "<table border=\"1\" class=\"dataframe\">\n",
       "  <thead>\n",
       "    <tr style=\"text-align: right;\">\n",
       "      <th></th>\n",
       "      <th>len</th>\n",
       "      <th>min</th>\n",
       "      <th>max</th>\n",
       "    </tr>\n",
       "    <tr>\n",
       "      <th>Rooms</th>\n",
       "      <th></th>\n",
       "      <th></th>\n",
       "      <th></th>\n",
       "    </tr>\n",
       "  </thead>\n",
       "  <tbody>\n",
       "    <tr>\n",
       "      <th>1</th>\n",
       "      <td>900</td>\n",
       "      <td>85000.0</td>\n",
       "      <td>2450000.0</td>\n",
       "    </tr>\n",
       "    <tr>\n",
       "      <th>2</th>\n",
       "      <td>5401</td>\n",
       "      <td>190000.0</td>\n",
       "      <td>4800000.0</td>\n",
       "    </tr>\n",
       "    <tr>\n",
       "      <th>3</th>\n",
       "      <td>11135</td>\n",
       "      <td>283000.0</td>\n",
       "      <td>9000000.0</td>\n",
       "    </tr>\n",
       "    <tr>\n",
       "      <th>4</th>\n",
       "      <td>6122</td>\n",
       "      <td>131000.0</td>\n",
       "      <td>11200000.0</td>\n",
       "    </tr>\n",
       "    <tr>\n",
       "      <th>5</th>\n",
       "      <td>1371</td>\n",
       "      <td>355000.0</td>\n",
       "      <td>8000000.0</td>\n",
       "    </tr>\n",
       "    <tr>\n",
       "      <th>6</th>\n",
       "      <td>168</td>\n",
       "      <td>506000.0</td>\n",
       "      <td>6500000.0</td>\n",
       "    </tr>\n",
       "    <tr>\n",
       "      <th>7</th>\n",
       "      <td>24</td>\n",
       "      <td>780000.0</td>\n",
       "      <td>5450000.0</td>\n",
       "    </tr>\n",
       "    <tr>\n",
       "      <th>8</th>\n",
       "      <td>15</td>\n",
       "      <td>741000.0</td>\n",
       "      <td>2950000.0</td>\n",
       "    </tr>\n",
       "    <tr>\n",
       "      <th>9</th>\n",
       "      <td>2</td>\n",
       "      <td>1050173.0</td>\n",
       "      <td>1050173.0</td>\n",
       "    </tr>\n",
       "    <tr>\n",
       "      <th>10</th>\n",
       "      <td>3</td>\n",
       "      <td>900000.0</td>\n",
       "      <td>2315000.0</td>\n",
       "    </tr>\n",
       "    <tr>\n",
       "      <th>12</th>\n",
       "      <td>1</td>\n",
       "      <td>710000.0</td>\n",
       "      <td>710000.0</td>\n",
       "    </tr>\n",
       "    <tr>\n",
       "      <th>16</th>\n",
       "      <td>1</td>\n",
       "      <td>5000000.0</td>\n",
       "      <td>5000000.0</td>\n",
       "    </tr>\n",
       "  </tbody>\n",
       "</table>\n",
       "</div>"
      ],
      "text/plain": [
       "         len        min         max\n",
       "Rooms                              \n",
       "1        900    85000.0   2450000.0\n",
       "2       5401   190000.0   4800000.0\n",
       "3      11135   283000.0   9000000.0\n",
       "4       6122   131000.0  11200000.0\n",
       "5       1371   355000.0   8000000.0\n",
       "6        168   506000.0   6500000.0\n",
       "7         24   780000.0   5450000.0\n",
       "8         15   741000.0   2950000.0\n",
       "9          2  1050173.0   1050173.0\n",
       "10         3   900000.0   2315000.0\n",
       "12         1   710000.0    710000.0\n",
       "16         1  5000000.0   5000000.0"
      ]
     },
     "execution_count": 935,
     "metadata": {},
     "output_type": "execute_result"
    }
   ],
   "source": [
    "# Price breakdown for each bedroom group\n",
    "by_bedroom = df.groupby(['Rooms']).Price.agg([len, min, max])\n",
    "by_bedroom"
   ]
  },
  {
   "cell_type": "code",
   "execution_count": 679,
   "id": "831532db",
   "metadata": {},
   "outputs": [],
   "source": [
    "# Save cleaned data for Power Bi visualistaions\n",
    "df.to_csv('cleaned_data.csv')"
   ]
  },
  {
   "cell_type": "markdown",
   "id": "b72c1661",
   "metadata": {},
   "source": [
    "## Data Modelling"
   ]
  },
  {
   "cell_type": "code",
   "execution_count": 936,
   "id": "e7f03267",
   "metadata": {},
   "outputs": [
    {
     "data": {
      "text/html": [
       "<div>\n",
       "<style scoped>\n",
       "    .dataframe tbody tr th:only-of-type {\n",
       "        vertical-align: middle;\n",
       "    }\n",
       "\n",
       "    .dataframe tbody tr th {\n",
       "        vertical-align: top;\n",
       "    }\n",
       "\n",
       "    .dataframe thead th {\n",
       "        text-align: right;\n",
       "    }\n",
       "</style>\n",
       "<table border=\"1\" class=\"dataframe\">\n",
       "  <thead>\n",
       "    <tr style=\"text-align: right;\">\n",
       "      <th></th>\n",
       "      <th>Suburb</th>\n",
       "      <th>Address</th>\n",
       "      <th>Rooms</th>\n",
       "      <th>Type</th>\n",
       "      <th>Price</th>\n",
       "      <th>Method</th>\n",
       "      <th>SellerG</th>\n",
       "      <th>Date</th>\n",
       "      <th>Distance</th>\n",
       "      <th>Postcode</th>\n",
       "      <th>Bathroom</th>\n",
       "      <th>Car</th>\n",
       "      <th>CouncilArea</th>\n",
       "      <th>Lattitude</th>\n",
       "      <th>Longtitude</th>\n",
       "      <th>Regionname</th>\n",
       "    </tr>\n",
       "  </thead>\n",
       "  <tbody>\n",
       "    <tr>\n",
       "      <th>1</th>\n",
       "      <td>Abbotsford</td>\n",
       "      <td>85 Turner St</td>\n",
       "      <td>2</td>\n",
       "      <td>House</td>\n",
       "      <td>1480000.0</td>\n",
       "      <td>Property Sold</td>\n",
       "      <td>Biggin</td>\n",
       "      <td>3/12/2016</td>\n",
       "      <td>2.5</td>\n",
       "      <td>3067.0</td>\n",
       "      <td>1.0</td>\n",
       "      <td>1.0</td>\n",
       "      <td>Yarra City Council</td>\n",
       "      <td>-37.7996</td>\n",
       "      <td>144.9984</td>\n",
       "      <td>Northern Metropolitan</td>\n",
       "    </tr>\n",
       "    <tr>\n",
       "      <th>2</th>\n",
       "      <td>Abbotsford</td>\n",
       "      <td>25 Bloomburg St</td>\n",
       "      <td>2</td>\n",
       "      <td>House</td>\n",
       "      <td>1035000.0</td>\n",
       "      <td>Property Sold</td>\n",
       "      <td>Biggin</td>\n",
       "      <td>4/02/2016</td>\n",
       "      <td>2.5</td>\n",
       "      <td>3067.0</td>\n",
       "      <td>1.0</td>\n",
       "      <td>0.0</td>\n",
       "      <td>Yarra City Council</td>\n",
       "      <td>-37.8079</td>\n",
       "      <td>144.9934</td>\n",
       "      <td>Northern Metropolitan</td>\n",
       "    </tr>\n",
       "    <tr>\n",
       "      <th>3</th>\n",
       "      <td>Abbotsford</td>\n",
       "      <td>18/659 Victoria St</td>\n",
       "      <td>3</td>\n",
       "      <td>Unit</td>\n",
       "      <td>1050173.0</td>\n",
       "      <td>Vendor Bid</td>\n",
       "      <td>Rounds</td>\n",
       "      <td>4/02/2016</td>\n",
       "      <td>2.5</td>\n",
       "      <td>3067.0</td>\n",
       "      <td>2.0</td>\n",
       "      <td>1.0</td>\n",
       "      <td>Yarra City Council</td>\n",
       "      <td>-37.8114</td>\n",
       "      <td>145.0116</td>\n",
       "      <td>Northern Metropolitan</td>\n",
       "    </tr>\n",
       "    <tr>\n",
       "      <th>4</th>\n",
       "      <td>Abbotsford</td>\n",
       "      <td>5 Charles St</td>\n",
       "      <td>3</td>\n",
       "      <td>House</td>\n",
       "      <td>1465000.0</td>\n",
       "      <td>Property Sold Prior</td>\n",
       "      <td>Biggin</td>\n",
       "      <td>4/03/2017</td>\n",
       "      <td>2.5</td>\n",
       "      <td>3067.0</td>\n",
       "      <td>2.0</td>\n",
       "      <td>0.0</td>\n",
       "      <td>Yarra City Council</td>\n",
       "      <td>-37.8093</td>\n",
       "      <td>144.9944</td>\n",
       "      <td>Northern Metropolitan</td>\n",
       "    </tr>\n",
       "    <tr>\n",
       "      <th>5</th>\n",
       "      <td>Abbotsford</td>\n",
       "      <td>40 Federation La</td>\n",
       "      <td>3</td>\n",
       "      <td>House</td>\n",
       "      <td>850000.0</td>\n",
       "      <td>Property Passed In</td>\n",
       "      <td>Biggin</td>\n",
       "      <td>4/03/2017</td>\n",
       "      <td>2.5</td>\n",
       "      <td>3067.0</td>\n",
       "      <td>2.0</td>\n",
       "      <td>1.0</td>\n",
       "      <td>Yarra City Council</td>\n",
       "      <td>-37.7969</td>\n",
       "      <td>144.9969</td>\n",
       "      <td>Northern Metropolitan</td>\n",
       "    </tr>\n",
       "  </tbody>\n",
       "</table>\n",
       "</div>"
      ],
      "text/plain": [
       "       Suburb             Address  Rooms   Type      Price  \\\n",
       "1  Abbotsford        85 Turner St      2  House  1480000.0   \n",
       "2  Abbotsford     25 Bloomburg St      2  House  1035000.0   \n",
       "3  Abbotsford  18/659 Victoria St      3   Unit  1050173.0   \n",
       "4  Abbotsford        5 Charles St      3  House  1465000.0   \n",
       "5  Abbotsford    40 Federation La      3  House   850000.0   \n",
       "\n",
       "                Method SellerG       Date  Distance  Postcode  Bathroom  Car  \\\n",
       "1        Property Sold  Biggin  3/12/2016       2.5    3067.0       1.0  1.0   \n",
       "2        Property Sold  Biggin  4/02/2016       2.5    3067.0       1.0  0.0   \n",
       "3           Vendor Bid  Rounds  4/02/2016       2.5    3067.0       2.0  1.0   \n",
       "4  Property Sold Prior  Biggin  4/03/2017       2.5    3067.0       2.0  0.0   \n",
       "5   Property Passed In  Biggin  4/03/2017       2.5    3067.0       2.0  1.0   \n",
       "\n",
       "          CouncilArea  Lattitude  Longtitude             Regionname  \n",
       "1  Yarra City Council   -37.7996    144.9984  Northern Metropolitan  \n",
       "2  Yarra City Council   -37.8079    144.9934  Northern Metropolitan  \n",
       "3  Yarra City Council   -37.8114    145.0116  Northern Metropolitan  \n",
       "4  Yarra City Council   -37.8093    144.9944  Northern Metropolitan  \n",
       "5  Yarra City Council   -37.7969    144.9969  Northern Metropolitan  "
      ]
     },
     "execution_count": 936,
     "metadata": {},
     "output_type": "execute_result"
    }
   ],
   "source": [
    "df.head()"
   ]
  },
  {
   "cell_type": "code",
   "execution_count": 937,
   "id": "c0da68a7",
   "metadata": {},
   "outputs": [
    {
     "data": {
      "text/html": [
       "<div>\n",
       "<style scoped>\n",
       "    .dataframe tbody tr th:only-of-type {\n",
       "        vertical-align: middle;\n",
       "    }\n",
       "\n",
       "    .dataframe tbody tr th {\n",
       "        vertical-align: top;\n",
       "    }\n",
       "\n",
       "    .dataframe thead th {\n",
       "        text-align: right;\n",
       "    }\n",
       "</style>\n",
       "<table border=\"1\" class=\"dataframe\">\n",
       "  <thead>\n",
       "    <tr style=\"text-align: right;\">\n",
       "      <th></th>\n",
       "      <th>Suburb</th>\n",
       "      <th>Address</th>\n",
       "      <th>Rooms</th>\n",
       "      <th>Type</th>\n",
       "      <th>Price</th>\n",
       "      <th>Method</th>\n",
       "      <th>SellerG</th>\n",
       "      <th>Date</th>\n",
       "      <th>Distance</th>\n",
       "      <th>Postcode</th>\n",
       "      <th>Bathroom</th>\n",
       "      <th>Car</th>\n",
       "      <th>CouncilArea</th>\n",
       "      <th>Lattitude</th>\n",
       "      <th>Longtitude</th>\n",
       "      <th>Regionname</th>\n",
       "    </tr>\n",
       "  </thead>\n",
       "  <tbody>\n",
       "    <tr>\n",
       "      <th>1</th>\n",
       "      <td>0</td>\n",
       "      <td>23415</td>\n",
       "      <td>2</td>\n",
       "      <td>0</td>\n",
       "      <td>1480000.0</td>\n",
       "      <td>1</td>\n",
       "      <td>28</td>\n",
       "      <td>3/12/2016</td>\n",
       "      <td>2.5</td>\n",
       "      <td>3067.0</td>\n",
       "      <td>1.0</td>\n",
       "      <td>1.0</td>\n",
       "      <td>31</td>\n",
       "      <td>-37.7996</td>\n",
       "      <td>144.9984</td>\n",
       "      <td>2</td>\n",
       "    </tr>\n",
       "    <tr>\n",
       "      <th>2</th>\n",
       "      <td>0</td>\n",
       "      <td>10762</td>\n",
       "      <td>2</td>\n",
       "      <td>0</td>\n",
       "      <td>1035000.0</td>\n",
       "      <td>1</td>\n",
       "      <td>28</td>\n",
       "      <td>4/02/2016</td>\n",
       "      <td>2.5</td>\n",
       "      <td>3067.0</td>\n",
       "      <td>1.0</td>\n",
       "      <td>0.0</td>\n",
       "      <td>31</td>\n",
       "      <td>-37.8079</td>\n",
       "      <td>144.9934</td>\n",
       "      <td>2</td>\n",
       "    </tr>\n",
       "    <tr>\n",
       "      <th>3</th>\n",
       "      <td>0</td>\n",
       "      <td>6945</td>\n",
       "      <td>3</td>\n",
       "      <td>2</td>\n",
       "      <td>1050173.0</td>\n",
       "      <td>4</td>\n",
       "      <td>267</td>\n",
       "      <td>4/02/2016</td>\n",
       "      <td>2.5</td>\n",
       "      <td>3067.0</td>\n",
       "      <td>2.0</td>\n",
       "      <td>1.0</td>\n",
       "      <td>31</td>\n",
       "      <td>-37.8114</td>\n",
       "      <td>145.0116</td>\n",
       "      <td>2</td>\n",
       "    </tr>\n",
       "    <tr>\n",
       "      <th>4</th>\n",
       "      <td>0</td>\n",
       "      <td>17858</td>\n",
       "      <td>3</td>\n",
       "      <td>0</td>\n",
       "      <td>1465000.0</td>\n",
       "      <td>2</td>\n",
       "      <td>28</td>\n",
       "      <td>4/03/2017</td>\n",
       "      <td>2.5</td>\n",
       "      <td>3067.0</td>\n",
       "      <td>2.0</td>\n",
       "      <td>0.0</td>\n",
       "      <td>31</td>\n",
       "      <td>-37.8093</td>\n",
       "      <td>144.9944</td>\n",
       "      <td>2</td>\n",
       "    </tr>\n",
       "    <tr>\n",
       "      <th>5</th>\n",
       "      <td>0</td>\n",
       "      <td>16333</td>\n",
       "      <td>3</td>\n",
       "      <td>0</td>\n",
       "      <td>850000.0</td>\n",
       "      <td>0</td>\n",
       "      <td>28</td>\n",
       "      <td>4/03/2017</td>\n",
       "      <td>2.5</td>\n",
       "      <td>3067.0</td>\n",
       "      <td>2.0</td>\n",
       "      <td>1.0</td>\n",
       "      <td>31</td>\n",
       "      <td>-37.7969</td>\n",
       "      <td>144.9969</td>\n",
       "      <td>2</td>\n",
       "    </tr>\n",
       "  </tbody>\n",
       "</table>\n",
       "</div>"
      ],
      "text/plain": [
       "   Suburb  Address  Rooms  Type      Price  Method  SellerG       Date  \\\n",
       "1       0    23415      2     0  1480000.0       1       28  3/12/2016   \n",
       "2       0    10762      2     0  1035000.0       1       28  4/02/2016   \n",
       "3       0     6945      3     2  1050173.0       4      267  4/02/2016   \n",
       "4       0    17858      3     0  1465000.0       2       28  4/03/2017   \n",
       "5       0    16333      3     0   850000.0       0       28  4/03/2017   \n",
       "\n",
       "   Distance  Postcode  Bathroom  Car  CouncilArea  Lattitude  Longtitude  \\\n",
       "1       2.5    3067.0       1.0  1.0           31   -37.7996    144.9984   \n",
       "2       2.5    3067.0       1.0  0.0           31   -37.8079    144.9934   \n",
       "3       2.5    3067.0       2.0  1.0           31   -37.8114    145.0116   \n",
       "4       2.5    3067.0       2.0  0.0           31   -37.8093    144.9944   \n",
       "5       2.5    3067.0       2.0  1.0           31   -37.7969    144.9969   \n",
       "\n",
       "   Regionname  \n",
       "1           2  \n",
       "2           2  \n",
       "3           2  \n",
       "4           2  \n",
       "5           2  "
      ]
     },
     "execution_count": 937,
     "metadata": {},
     "output_type": "execute_result"
    }
   ],
   "source": [
    "# Converts data type to category and then label encodes it\n",
    "\n",
    "df.Suburb = df.Suburb.astype(\"category\")\n",
    "df.Suburb = df.Suburb.cat.codes\n",
    "\n",
    "df.Address = df.Address.astype(\"category\")\n",
    "df.Address = df.Address.cat.codes\n",
    "\n",
    "df.Type = df.Type.astype(\"category\")\n",
    "df.Type = df.Type.cat.codes\n",
    "\n",
    "df.Method = df.Method.astype(\"category\")\n",
    "df.Method = df.Method.cat.codes\n",
    "\n",
    "df.SellerG = df.SellerG.astype(\"category\")\n",
    "df.SellerG = df.SellerG.cat.codes\n",
    "\n",
    "df.CouncilArea = df.CouncilArea.astype(\"category\")\n",
    "df.CouncilArea = df.CouncilArea.cat.codes\n",
    "\n",
    "df.Regionname = df.Regionname.astype(\"category\")\n",
    "df.Regionname = df.Regionname.cat.codes\n",
    "\n",
    "df.head()"
   ]
  },
  {
   "cell_type": "code",
   "execution_count": 938,
   "id": "d6ac52e8",
   "metadata": {},
   "outputs": [
    {
     "data": {
      "text/plain": [
       "<AxesSubplot:>"
      ]
     },
     "execution_count": 938,
     "metadata": {},
     "output_type": "execute_result"
    },
    {
     "data": {
      "image/png": "[encoded data removed]",
      "text/plain": [
       "<Figure size 1152x720 with 2 Axes>"
      ]
     },
     "metadata": {
      "needs_background": "light"
     },
     "output_type": "display_data"
    }
   ],
   "source": [
    "plt.figure(figsize = (16,10))\n",
    "sns.heatmap(df.corr(), cmap=\"YlGnBu\", annot=True)"
   ]
  },
  {
   "cell_type": "markdown",
   "id": "b5aa8f8b",
   "metadata": {},
   "source": [
    "## Test1:The only 2 columns with some co-relation with price are Rooms and Bathroom."
   ]
  },
  {
   "cell_type": "code",
   "execution_count": 892,
   "id": "8a0f5af4",
   "metadata": {},
   "outputs": [],
   "source": [
    "# Independent variables\n",
    "# Only good co-relations are Rooms and Bathrooms\n",
    "X = df.loc[:,['Rooms',\n",
    "              'Bathroom',]]\n",
    "\n",
    "# Dependent variable\n",
    "y = df.loc[:,['Price']]"
   ]
  },
  {
   "cell_type": "code",
   "execution_count": 893,
   "id": "0c5c9fd8",
   "metadata": {},
   "outputs": [],
   "source": [
    "# Separate y and X into train and test\n",
    "X_train, X_test, y_train, y_test = train_test_split(X, y, test_size=0.3, random_state=42)"
   ]
  },
  {
   "cell_type": "code",
   "execution_count": 894,
   "id": "20aea790",
   "metadata": {},
   "outputs": [
    {
     "data": {
      "image/png": "[encoded data removed]",
      "text/plain": [
       "<Figure size 1152x720 with 1 Axes>"
      ]
     },
     "metadata": {
      "needs_background": "light"
     },
     "output_type": "display_data"
    }
   ],
   "source": [
    "# Examination before standardising information\n",
    "plt.figure(figsize=(16,10))\n",
    "plt.hist(X_test);"
   ]
  },
  {
   "cell_type": "code",
   "execution_count": 896,
   "id": "9e5f81b4",
   "metadata": {},
   "outputs": [],
   "source": [
    "# Define model\n",
    "\n",
    "mlr = LinearRegression()\n",
    "mlr.fit(X_train,y_train)\n",
    "\n",
    "# Predictor variable\n",
    "pred = mlr.predict(X_test)"
   ]
  },
  {
   "cell_type": "code",
   "execution_count": 899,
   "id": "4803b936",
   "metadata": {
    "scrolled": false
   },
   "outputs": [
    {
     "data": {
      "text/plain": [
       "<matplotlib.legend.Legend at 0x143e91beee0>"
      ]
     },
     "execution_count": 899,
     "metadata": {},
     "output_type": "execute_result"
    },
    {
     "data": {
      "image/png": "[encoded data removed]",
      "text/plain": [
       "<Figure size 1152x720 with 1 Axes>"
      ]
     },
     "metadata": {
      "needs_background": "light"
     },
     "output_type": "display_data"
    }
   ],
   "source": [
    "# Plot predicted values on one axis and the real values on the other axis\n",
    "plt.figure(figsize=(16,10))\n",
    "plt.ticklabel_format(style='plain')\n",
    "plt.scatter(y_test, pred, color = 'red')\n",
    "plt.scatter(y_test, y_test, color = 'blue')\n",
    "\n",
    "\n",
    "plt.title(label='Actual vs Predicted')\n",
    "plt.xlabel(xlabel='Actual')\n",
    "plt.ylabel(ylabel='Predicted')\n",
    "plt.legend(['Predicted', 'Actual'],loc=\"upper left\")"
   ]
  },
  {
   "cell_type": "code",
   "execution_count": 900,
   "id": "3402666f",
   "metadata": {},
   "outputs": [
    {
     "data": {
      "text/plain": [
       "0.18975304763875656"
      ]
     },
     "execution_count": 900,
     "metadata": {},
     "output_type": "execute_result"
    }
   ],
   "source": [
    "# R^2 values\n",
    "from sklearn.metrics import r2_score\n",
    "r2_score(y_test, pred)"
   ]
  },
  {
   "cell_type": "code",
   "execution_count": 609,
   "id": "1ced46e4",
   "metadata": {},
   "outputs": [
    {
     "name": "stdout",
     "output_type": "stream",
     "text": [
      "MAE: 371714.18926275044\n",
      "MSE: 289415795449.7357\n",
      "RMSE: 537973.7869541004\n"
     ]
    }
   ],
   "source": [
    "# Import metrics from sklearn \n",
    "from sklearn import metrics\n",
    "\n",
    "# MAE MSE and RMSE.\n",
    "\n",
    "print('MAE:', metrics.mean_absolute_error(y_test, pred))\n",
    "print('MSE:', metrics.mean_squared_error(y_test, pred))\n",
    "print('RMSE:', np.sqrt(metrics.mean_squared_error(y_test, pred)))"
   ]
  },
  {
   "cell_type": "markdown",
   "id": "4a2d42b0",
   "metadata": {},
   "source": [
    "## Test2: Decided to use all columns except Date because of the poor R2 score."
   ]
  },
  {
   "cell_type": "code",
   "execution_count": 947,
   "id": "7561201c",
   "metadata": {},
   "outputs": [],
   "source": [
    "# Independent variables\n",
    "# Only good co-relations are Rooms and Bathrooms\n",
    "X = df.loc[:,['Suburb',\n",
    "              'Address',\n",
    "              'Rooms',\n",
    "              'Type',\n",
    "              'Method',\n",
    "              'SellerG',\n",
    "              'Distance',\n",
    "              'Postcode',\n",
    "              'Bathroom',\n",
    "              'Car',\n",
    "              'CouncilArea',\n",
    "              'Lattitude',\n",
    "              'Longtitude',\n",
    "              'Regionname']]\n",
    "\n",
    "# Dependent variable\n",
    "y = df.loc[:,['Price']]"
   ]
  },
  {
   "cell_type": "code",
   "execution_count": 948,
   "id": "ca161e83",
   "metadata": {},
   "outputs": [],
   "source": [
    "# Separate y and X into train and test\n",
    "X_train, X_test, y_train, y_test = train_test_split(X, y, test_size=0.3, random_state=42)"
   ]
  },
  {
   "cell_type": "code",
   "execution_count": 949,
   "id": "2cad9cb0",
   "metadata": {},
   "outputs": [
    {
     "data": {
      "image/png": "[encoded data removed]",
      "text/plain": [
       "<Figure size 1152x720 with 1 Axes>"
      ]
     },
     "metadata": {
      "needs_background": "light"
     },
     "output_type": "display_data"
    }
   ],
   "source": [
    "# Examination before Normalising/standardisation information\n",
    "plt.figure(figsize=(16,10))\n",
    "plt.hist(X_test);"
   ]
  },
  {
   "cell_type": "code",
   "execution_count": 950,
   "id": "be4ebff3",
   "metadata": {},
   "outputs": [],
   "source": [
    "# Define model\n",
    "from sklearn.preprocessing import MinMaxScaler\n",
    "sc_X = MinMaxScaler()\n",
    "sc_X.fit(X_train)\n",
    "\n",
    "X_train = sc_X.transform(X_train)\n",
    "X_test = sc_X.transform(X_test)"
   ]
  },
  {
   "cell_type": "code",
   "execution_count": 951,
   "id": "8da6ff22",
   "metadata": {},
   "outputs": [
    {
     "data": {
      "image/png": "[encoded data removed]",
      "text/plain": [
       "<Figure size 1152x720 with 1 Axes>"
      ]
     },
     "metadata": {
      "needs_background": "light"
     },
     "output_type": "display_data"
    }
   ],
   "source": [
    "# Examining Normalised information\n",
    "plt.figure(figsize=(16,10))\n",
    "plt.hist(X_test);"
   ]
  },
  {
   "cell_type": "code",
   "execution_count": 952,
   "id": "232b586e",
   "metadata": {},
   "outputs": [],
   "source": [
    "# Define model\n",
    "\n",
    "mlr = LinearRegression()\n",
    "mlr.fit(X_train,y_train)\n",
    "\n",
    "# Predictor variable\n",
    "pred = mlr.predict(X_test)"
   ]
  },
  {
   "cell_type": "code",
   "execution_count": 953,
   "id": "9b9f4310",
   "metadata": {},
   "outputs": [],
   "source": [
    "# Define model\n",
    "\n",
    "mlr = LinearRegression()\n",
    "mlr.fit(X_train,y_train)\n",
    "\n",
    "# Predictor variable\n",
    "pred = mlr.predict(X_test)"
   ]
  },
  {
   "cell_type": "code",
   "execution_count": 955,
   "id": "14be6068",
   "metadata": {},
   "outputs": [
    {
     "data": {
      "text/plain": [
       "<matplotlib.legend.Legend at 0x143f2754af0>"
      ]
     },
     "execution_count": 955,
     "metadata": {},
     "output_type": "execute_result"
    },
    {
     "data": {
      "image/png": "[encoded data removed]",
      "text/plain": [
       "<Figure size 1152x720 with 1 Axes>"
      ]
     },
     "metadata": {
      "needs_background": "light"
     },
     "output_type": "display_data"
    }
   ],
   "source": [
    "# Plot predicted values on one axis and the real values on the other axis\n",
    "plt.figure(figsize=(16,10))\n",
    "plt.ticklabel_format(style='plain')\n",
    "plt.scatter(y_test, pred, color = 'red')\n",
    "plt.scatter(y_test, y_test, color = 'blue')\n",
    "\n",
    "plt.title(label='Actual vs Predicted')\n",
    "plt.xlabel(xlabel='Actual')\n",
    "plt.ylabel(ylabel='Predicted')\n",
    "plt.legend(['Predicted', 'Actual'],loc=\"upper left\")"
   ]
  },
  {
   "cell_type": "code",
   "execution_count": 956,
   "id": "fe0e5bda",
   "metadata": {},
   "outputs": [
    {
     "data": {
      "text/plain": [
       "0.42872193529472924"
      ]
     },
     "execution_count": 956,
     "metadata": {},
     "output_type": "execute_result"
    }
   ],
   "source": [
    "# R^2 values\n",
    "from sklearn.metrics import r2_score\n",
    "r2_score(y_test, pred)"
   ]
  },
  {
   "cell_type": "code",
   "execution_count": 641,
   "id": "7fa1ff44",
   "metadata": {},
   "outputs": [
    {
     "name": "stdout",
     "output_type": "stream",
     "text": [
      "MAE: 296256.03077649744\n",
      "MSE: 204057411185.35812\n",
      "RMSE: 451727.14240496786\n"
     ]
    }
   ],
   "source": [
    "# Import metrics from sklearn \n",
    "from sklearn import metrics\n",
    "\n",
    "# MAE MSE and RMSE.\n",
    "\n",
    "print('MAE:', metrics.mean_absolute_error(y_test, pred))\n",
    "print('MSE:', metrics.mean_squared_error(y_test, pred))\n",
    "print('RMSE:', np.sqrt(metrics.mean_squared_error(y_test, pred)))"
   ]
  },
  {
   "cell_type": "markdown",
   "id": "3d63357d",
   "metadata": {},
   "source": [
    "## Decided to remove houses with more than 5 bedrooms as they only comprise of 214 rows out of the 25k rows of data."
   ]
  },
  {
   "cell_type": "code",
   "execution_count": 983,
   "id": "1aa1c877",
   "metadata": {},
   "outputs": [
    {
     "name": "stdout",
     "output_type": "stream",
     "text": [
      "<class 'pandas.core.frame.DataFrame'>\n",
      "Int64Index: 24929 entries, 1 to 34856\n",
      "Data columns (total 16 columns):\n",
      " #   Column       Non-Null Count  Dtype  \n",
      "---  ------       --------------  -----  \n",
      " 0   Suburb       24929 non-null  int16  \n",
      " 1   Address      24929 non-null  int16  \n",
      " 2   Rooms        24929 non-null  int64  \n",
      " 3   Type         24929 non-null  int8   \n",
      " 4   Price        24929 non-null  float64\n",
      " 5   Method       24929 non-null  int8   \n",
      " 6   SellerG      24929 non-null  int16  \n",
      " 7   Date         24929 non-null  object \n",
      " 8   Distance     24929 non-null  float64\n",
      " 9   Postcode     24929 non-null  float64\n",
      " 10  Bathroom     24929 non-null  float64\n",
      " 11  Car          24929 non-null  float64\n",
      " 12  CouncilArea  24929 non-null  int8   \n",
      " 13  Lattitude    24929 non-null  float64\n",
      " 14  Longtitude   24929 non-null  float64\n",
      " 15  Regionname   24929 non-null  int8   \n",
      "dtypes: float64(7), int16(3), int64(1), int8(4), object(1)\n",
      "memory usage: 2.1+ MB\n"
     ]
    }
   ],
   "source": [
    "# Remove houses with more than 6 rooms\n",
    "df2 = df.drop(df.index[df['Rooms'].isin([6,7,8,9,10,12,16])])\n",
    "df2.info()"
   ]
  },
  {
   "cell_type": "code",
   "execution_count": 1007,
   "id": "054602e0",
   "metadata": {},
   "outputs": [
    {
     "data": {
      "text/plain": [
       "<AxesSubplot:xlabel='Rooms', ylabel='Price'>"
      ]
     },
     "execution_count": 1007,
     "metadata": {},
     "output_type": "execute_result"
    },
    {
     "data": {
      "image/png": "[encoded data removed]",
      "text/plain": [
       "<Figure size 1152x720 with 1 Axes>"
      ]
     },
     "metadata": {
      "needs_background": "light"
     },
     "output_type": "display_data"
    }
   ],
   "source": [
    "plt.figure(figsize=(16,10))\n",
    "sns.barplot(x=df2.Rooms, y=df2['Price'],color='skyblue')"
   ]
  },
  {
   "cell_type": "code",
   "execution_count": 985,
   "id": "5feb089c",
   "metadata": {},
   "outputs": [
    {
     "data": {
      "text/html": [
       "<div>\n",
       "<style scoped>\n",
       "    .dataframe tbody tr th:only-of-type {\n",
       "        vertical-align: middle;\n",
       "    }\n",
       "\n",
       "    .dataframe tbody tr th {\n",
       "        vertical-align: top;\n",
       "    }\n",
       "\n",
       "    .dataframe thead th {\n",
       "        text-align: right;\n",
       "    }\n",
       "</style>\n",
       "<table border=\"1\" class=\"dataframe\">\n",
       "  <thead>\n",
       "    <tr style=\"text-align: right;\">\n",
       "      <th></th>\n",
       "      <th>Suburb</th>\n",
       "      <th>Address</th>\n",
       "      <th>Rooms</th>\n",
       "      <th>Type</th>\n",
       "      <th>Price</th>\n",
       "      <th>Method</th>\n",
       "      <th>SellerG</th>\n",
       "      <th>Date</th>\n",
       "      <th>Distance</th>\n",
       "      <th>Postcode</th>\n",
       "      <th>Bathroom</th>\n",
       "      <th>Car</th>\n",
       "      <th>CouncilArea</th>\n",
       "      <th>Lattitude</th>\n",
       "      <th>Longtitude</th>\n",
       "      <th>Regionname</th>\n",
       "    </tr>\n",
       "  </thead>\n",
       "  <tbody>\n",
       "    <tr>\n",
       "      <th>1</th>\n",
       "      <td>0</td>\n",
       "      <td>23223</td>\n",
       "      <td>2</td>\n",
       "      <td>0</td>\n",
       "      <td>1480000.0</td>\n",
       "      <td>1</td>\n",
       "      <td>28</td>\n",
       "      <td>3/12/2016</td>\n",
       "      <td>2.5</td>\n",
       "      <td>3067.0</td>\n",
       "      <td>1.0</td>\n",
       "      <td>1.0</td>\n",
       "      <td>31</td>\n",
       "      <td>-37.7996</td>\n",
       "      <td>144.9984</td>\n",
       "      <td>2</td>\n",
       "    </tr>\n",
       "    <tr>\n",
       "      <th>2</th>\n",
       "      <td>0</td>\n",
       "      <td>10660</td>\n",
       "      <td>2</td>\n",
       "      <td>0</td>\n",
       "      <td>1035000.0</td>\n",
       "      <td>1</td>\n",
       "      <td>28</td>\n",
       "      <td>4/02/2016</td>\n",
       "      <td>2.5</td>\n",
       "      <td>3067.0</td>\n",
       "      <td>1.0</td>\n",
       "      <td>0.0</td>\n",
       "      <td>31</td>\n",
       "      <td>-37.8079</td>\n",
       "      <td>144.9934</td>\n",
       "      <td>2</td>\n",
       "    </tr>\n",
       "    <tr>\n",
       "      <th>3</th>\n",
       "      <td>0</td>\n",
       "      <td>6879</td>\n",
       "      <td>3</td>\n",
       "      <td>2</td>\n",
       "      <td>1050173.0</td>\n",
       "      <td>4</td>\n",
       "      <td>266</td>\n",
       "      <td>4/02/2016</td>\n",
       "      <td>2.5</td>\n",
       "      <td>3067.0</td>\n",
       "      <td>2.0</td>\n",
       "      <td>1.0</td>\n",
       "      <td>31</td>\n",
       "      <td>-37.8114</td>\n",
       "      <td>145.0116</td>\n",
       "      <td>2</td>\n",
       "    </tr>\n",
       "    <tr>\n",
       "      <th>4</th>\n",
       "      <td>0</td>\n",
       "      <td>17704</td>\n",
       "      <td>3</td>\n",
       "      <td>0</td>\n",
       "      <td>1465000.0</td>\n",
       "      <td>2</td>\n",
       "      <td>28</td>\n",
       "      <td>4/03/2017</td>\n",
       "      <td>2.5</td>\n",
       "      <td>3067.0</td>\n",
       "      <td>2.0</td>\n",
       "      <td>0.0</td>\n",
       "      <td>31</td>\n",
       "      <td>-37.8093</td>\n",
       "      <td>144.9944</td>\n",
       "      <td>2</td>\n",
       "    </tr>\n",
       "    <tr>\n",
       "      <th>5</th>\n",
       "      <td>0</td>\n",
       "      <td>16196</td>\n",
       "      <td>3</td>\n",
       "      <td>0</td>\n",
       "      <td>850000.0</td>\n",
       "      <td>0</td>\n",
       "      <td>28</td>\n",
       "      <td>4/03/2017</td>\n",
       "      <td>2.5</td>\n",
       "      <td>3067.0</td>\n",
       "      <td>2.0</td>\n",
       "      <td>1.0</td>\n",
       "      <td>31</td>\n",
       "      <td>-37.7969</td>\n",
       "      <td>144.9969</td>\n",
       "      <td>2</td>\n",
       "    </tr>\n",
       "  </tbody>\n",
       "</table>\n",
       "</div>"
      ],
      "text/plain": [
       "   Suburb  Address  Rooms  Type      Price  Method  SellerG       Date  \\\n",
       "1       0    23223      2     0  1480000.0       1       28  3/12/2016   \n",
       "2       0    10660      2     0  1035000.0       1       28  4/02/2016   \n",
       "3       0     6879      3     2  1050173.0       4      266  4/02/2016   \n",
       "4       0    17704      3     0  1465000.0       2       28  4/03/2017   \n",
       "5       0    16196      3     0   850000.0       0       28  4/03/2017   \n",
       "\n",
       "   Distance  Postcode  Bathroom  Car  CouncilArea  Lattitude  Longtitude  \\\n",
       "1       2.5    3067.0       1.0  1.0           31   -37.7996    144.9984   \n",
       "2       2.5    3067.0       1.0  0.0           31   -37.8079    144.9934   \n",
       "3       2.5    3067.0       2.0  1.0           31   -37.8114    145.0116   \n",
       "4       2.5    3067.0       2.0  0.0           31   -37.8093    144.9944   \n",
       "5       2.5    3067.0       2.0  1.0           31   -37.7969    144.9969   \n",
       "\n",
       "   Regionname  \n",
       "1           2  \n",
       "2           2  \n",
       "3           2  \n",
       "4           2  \n",
       "5           2  "
      ]
     },
     "execution_count": 985,
     "metadata": {},
     "output_type": "execute_result"
    }
   ],
   "source": [
    "# Converts data type to category and then label encodes it\n",
    "\n",
    "df2.Suburb = df2.Suburb.astype(\"category\")\n",
    "df2.Suburb = df2.Suburb.cat.codes\n",
    "\n",
    "df2.Address = df2.Address.astype(\"category\")\n",
    "df2.Address = df2.Address.cat.codes\n",
    "\n",
    "df2.Type = df2.Type.astype(\"category\")\n",
    "df2.Type = df2.Type.cat.codes\n",
    "\n",
    "df2.Method = df2.Method.astype(\"category\")\n",
    "df2.Method = df2.Method.cat.codes\n",
    "\n",
    "df2.SellerG = df2.SellerG.astype(\"category\")\n",
    "df2.SellerG = df2.SellerG.cat.codes\n",
    "\n",
    "df2.CouncilArea = df2.CouncilArea.astype(\"category\")\n",
    "df2.CouncilArea = df2.CouncilArea.cat.codes\n",
    "\n",
    "df2.Regionname = df2.Regionname.astype(\"category\")\n",
    "df2.Regionname = df2.Regionname.cat.codes\n",
    "\n",
    "df2.head()"
   ]
  },
  {
   "cell_type": "markdown",
   "id": "6fc27261",
   "metadata": {},
   "source": [
    "## Test3: Again only used the rooms and bathroom column due to their co-relation to price."
   ]
  },
  {
   "cell_type": "code",
   "execution_count": 969,
   "id": "38657e7b",
   "metadata": {},
   "outputs": [],
   "source": [
    "# Independent variables\n",
    "# Only good co-relations are Rooms and Bathrooms\n",
    "X = df2.loc[:,['Rooms',\n",
    "              'Bathroom',]]\n",
    "\n",
    "# Dependent variable\n",
    "y = df2.loc[:,['Price']]"
   ]
  },
  {
   "cell_type": "code",
   "execution_count": 970,
   "id": "5834a28d",
   "metadata": {},
   "outputs": [],
   "source": [
    "# Separate y and X into train and test\n",
    "X_train, X_test, y_train, y_test = train_test_split(X, y, test_size=0.3, random_state=42)\n"
   ]
  },
  {
   "cell_type": "code",
   "execution_count": 971,
   "id": "5e174781",
   "metadata": {},
   "outputs": [
    {
     "data": {
      "image/png": "[encoded data removed]",
      "text/plain": [
       "<Figure size 1152x720 with 1 Axes>"
      ]
     },
     "metadata": {
      "needs_background": "light"
     },
     "output_type": "display_data"
    }
   ],
   "source": [
    "# Examination before standardising information\n",
    "plt.figure(figsize = (16,10))\n",
    "plt.hist(X_test);"
   ]
  },
  {
   "cell_type": "code",
   "execution_count": 967,
   "id": "360371ea",
   "metadata": {},
   "outputs": [],
   "source": [
    "# Create a standardscaler() object\n",
    "from sklearn.preprocessing import StandardScaler\n",
    "\n",
    "sc_X = StandardScaler ()\n",
    "sc_X.fit(X_train)\n",
    "\n",
    "X_train = sc_X.transform(X_train)\n",
    "X_test = sc_X.transform(X_test)\n"
   ]
  },
  {
   "cell_type": "code",
   "execution_count": 968,
   "id": "42e39182",
   "metadata": {},
   "outputs": [
    {
     "data": {
      "image/png": "[encoded data removed]",
      "text/plain": [
       "<Figure size 432x288 with 1 Axes>"
      ]
     },
     "metadata": {
      "needs_background": "light"
     },
     "output_type": "display_data"
    }
   ],
   "source": [
    "# Examining standardised information\n",
    "plt.hist(X_test);\n"
   ]
  },
  {
   "cell_type": "code",
   "execution_count": 972,
   "id": "5fce5e1c",
   "metadata": {},
   "outputs": [],
   "source": [
    "# Define model\n",
    "\n",
    "mlr = LinearRegression()\n",
    "mlr.fit(X_train,y_train)\n",
    "\n",
    "# Predictor variable\n",
    "pred = mlr.predict(X_test)"
   ]
  },
  {
   "cell_type": "code",
   "execution_count": 973,
   "id": "d9148a27",
   "metadata": {},
   "outputs": [
    {
     "data": {
      "text/plain": [
       "<matplotlib.legend.Legend at 0x143e9bb3a60>"
      ]
     },
     "execution_count": 973,
     "metadata": {},
     "output_type": "execute_result"
    },
    {
     "data": {
      "image/png": "[encoded data removed]",
      "text/plain": [
       "<Figure size 1152x720 with 1 Axes>"
      ]
     },
     "metadata": {
      "needs_background": "light"
     },
     "output_type": "display_data"
    }
   ],
   "source": [
    "\n",
    "\n",
    "# Plot predicted values on one axis and the real values on the other axis\n",
    "plt.figure(figsize=(16,10))\n",
    "plt.ticklabel_format(style='plain')\n",
    "plt.scatter(y_test, pred, color = 'red')\n",
    "plt.scatter(y_test, y_test, color = 'blue')\n",
    "\n",
    "plt.title(label='Actual vs Predicted')\n",
    "plt.xlabel(xlabel='Actual')\n",
    "plt.ylabel(ylabel='Predicted')\n",
    "plt.legend(['Predicted', 'Actual'],loc=\"upper left\")\n"
   ]
  },
  {
   "cell_type": "code",
   "execution_count": 974,
   "id": "058b9652",
   "metadata": {},
   "outputs": [
    {
     "data": {
      "text/plain": [
       "0.19708712897035996"
      ]
     },
     "execution_count": 974,
     "metadata": {},
     "output_type": "execute_result"
    }
   ],
   "source": [
    "# R^2 values\n",
    "from sklearn.metrics import r2_score\n",
    "r2_score(y_test, pred)"
   ]
  },
  {
   "cell_type": "markdown",
   "id": "5b6f9eaa",
   "metadata": {},
   "source": [
    "## Test4: Using All columns"
   ]
  },
  {
   "cell_type": "code",
   "execution_count": 975,
   "id": "3765faba",
   "metadata": {},
   "outputs": [],
   "source": [
    "# Independent variables\n",
    "# Only good co-relations are Rooms and Bathrooms\n",
    "X = df2.loc[:,['Suburb',\n",
    "              'Address',\n",
    "              'Rooms',\n",
    "              'Type',\n",
    "              'Method',\n",
    "              'SellerG',\n",
    "              'Distance',\n",
    "              'Postcode',\n",
    "              'Bathroom',\n",
    "              'Car',\n",
    "              'CouncilArea',\n",
    "              'Lattitude',\n",
    "              'Longtitude',\n",
    "              'Regionname']]\n",
    "\n",
    "# Dependent variable\n",
    "y = df2.loc[:,['Price']]"
   ]
  },
  {
   "cell_type": "code",
   "execution_count": 976,
   "id": "30dddfbf",
   "metadata": {},
   "outputs": [],
   "source": [
    "# Separate y and X into train and test\n",
    "X_train, X_test, y_train, y_test = train_test_split(X, y, test_size=0.3, random_state=42)"
   ]
  },
  {
   "cell_type": "code",
   "execution_count": 977,
   "id": "edc6b5de",
   "metadata": {},
   "outputs": [
    {
     "data": {
      "image/png": "[encoded data removed]",
      "text/plain": [
       "<Figure size 1152x720 with 1 Axes>"
      ]
     },
     "metadata": {
      "needs_background": "light"
     },
     "output_type": "display_data"
    }
   ],
   "source": [
    "# Examination before standardising information\n",
    "plt.figure(figsize=(16,10))\n",
    "plt.hist(X_test);"
   ]
  },
  {
   "cell_type": "code",
   "execution_count": 978,
   "id": "66a52542",
   "metadata": {},
   "outputs": [],
   "source": [
    "# Define model\n",
    "from sklearn.preprocessing import MinMaxScaler\n",
    "sc_X = MinMaxScaler()\n",
    "sc_X.fit(X_train)\n",
    "\n",
    "X_train = sc_X.transform(X_train)\n",
    "X_test = sc_X.transform(X_test)"
   ]
  },
  {
   "cell_type": "code",
   "execution_count": 979,
   "id": "f83364a5",
   "metadata": {},
   "outputs": [
    {
     "data": {
      "image/png": "[encoded data removed]",
      "text/plain": [
       "<Figure size 1152x720 with 1 Axes>"
      ]
     },
     "metadata": {
      "needs_background": "light"
     },
     "output_type": "display_data"
    }
   ],
   "source": [
    "# Examining normalised information\n",
    "plt.figure(figsize=(16,10))\n",
    "plt.hist(X_test);\n"
   ]
  },
  {
   "cell_type": "code",
   "execution_count": 980,
   "id": "fbaa0630",
   "metadata": {},
   "outputs": [],
   "source": [
    "# Define model\n",
    "\n",
    "mlr = LinearRegression()\n",
    "mlr.fit(X_train,y_train)\n",
    "\n",
    "# Predictor variable\n",
    "pred = mlr.predict(X_test)"
   ]
  },
  {
   "cell_type": "code",
   "execution_count": 981,
   "id": "3e984403",
   "metadata": {},
   "outputs": [
    {
     "data": {
      "text/plain": [
       "<matplotlib.legend.Legend at 0x143d7dafe80>"
      ]
     },
     "execution_count": 981,
     "metadata": {},
     "output_type": "execute_result"
    },
    {
     "data": {
      "image/png": "[encoded data removed]",
      "text/plain": [
       "<Figure size 1152x720 with 1 Axes>"
      ]
     },
     "metadata": {
      "needs_background": "light"
     },
     "output_type": "display_data"
    }
   ],
   "source": [
    "# Plot predicted values on one axis and the real values on the other axis\n",
    "plt.figure(figsize=(16,10))\n",
    "plt.ticklabel_format(style='plain')\n",
    "plt.scatter(y_test, pred, color = 'red')\n",
    "plt.scatter(y_test, y_test, color = 'blue')\n",
    "\n",
    "plt.title(label='Actual vs Predicted')\n",
    "plt.xlabel(xlabel='Actual')\n",
    "plt.ylabel(ylabel='Predicted')\n",
    "plt.legend(['Predicted', 'Actual'],loc=\"upper left\")"
   ]
  },
  {
   "cell_type": "code",
   "execution_count": 982,
   "id": "4b60caab",
   "metadata": {},
   "outputs": [
    {
     "data": {
      "text/plain": [
       "0.43830440207031796"
      ]
     },
     "execution_count": 982,
     "metadata": {},
     "output_type": "execute_result"
    }
   ],
   "source": [
    "# R^2 values\n",
    "from sklearn.metrics import r2_score\n",
    "r2_score(y_test, pred)"
   ]
  },
  {
   "cell_type": "markdown",
   "id": "8c6d9c3d",
   "metadata": {},
   "source": [
    "## Created a comparison table of R2 scores after each test run in power point"
   ]
  }
 ],
 "metadata": {
  "kernelspec": {
   "display_name": "Python 3 (ipykernel)",
   "language": "python",
   "name": "python3"
  },
  "language_info": {
   "codemirror_mode": {
    "name": "ipython",
    "version": 3
   },
   "file_extension": ".py",
   "mimetype": "text/x-python",
   "name": "python",
   "nbconvert_exporter": "python",
   "pygments_lexer": "ipython3",
   "version": "3.9.12"
  }
 },
 "nbformat": 4,
 "nbformat_minor": 5
}
